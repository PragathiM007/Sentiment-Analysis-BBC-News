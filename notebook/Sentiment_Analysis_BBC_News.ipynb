{
 "cells": [
  {
   "cell_type": "markdown",
   "metadata": {},
   "source": [
    "<!-- <div style=\"padding:20px; color:#FBCB0A;\n",
    "            margin:10px;\n",
    "            font-size:200%;\n",
    "            text-align:center;\n",
    "            text-shadow:2px 2px 4px #000000;\n",
    "            display:fill;\n",
    "            border-radius:30px;\n",
    "            border-width: 15px;\n",
    "            border-style: double;\n",
    "            border-color:#FBCB0A;\n",
    "            background-color:#2F8F9D;\n",
    "            overflow:hidden;\n",
    "            font-weight:500; width:1300px\"> Analyzing Call Center Performance </div> -->\n",
    "\n",
    "\n",
    "\n",
    "<h1 style='background:#0f403f; border:0; color:#ebac8c'><center>SENTIMENT ANALYSIS BBC NEWS</center></h1> \n",
    "\n",
    "<center>\n",
    "<img style=\"align:center;\" src=\"https://m.media-amazon.com/images/I/81uHWNMjXJL.jpg\" width=900>\n",
    "</center>\n",
    "\n",
    "<!-- <div style=\"padding:20px; \n",
    "            color:#FBCB0A;\n",
    "            margin:10px;\n",
    "            font-size:200%;\n",
    "            text-align:center;\n",
    "            text-shadow:2px 2px 4px #000000;\n",
    "            display:fill;\n",
    "            border-radius:30px;\n",
    "            border-width: 15px;\n",
    "            border-style: double;\n",
    "            border-color:#FBCB0A;\n",
    "            background-color:#2F8F9D;\n",
    "            overflow:hidden;\n",
    "            font-weight:500;\n",
    "            width:1300px;\n",
    "            height:500px\"> TABLE OF CONTENT</div> -->\n",
    "\n",
    "\n",
    "\n",
    "\n",
    "                      \n",
    "</div>\n"
   ]
  },
  {
   "cell_type": "markdown",
   "metadata": {},
   "source": [
    "# Evaluating Market Perception through Sentiment Analysis of BBC News Articles \n",
    "## Sentiment Analysis of BBC-related Discussions: Identifying Key Concerns and Opportunities for Improvement\n",
    "\n",
    "In this notebook, I will perform an in-depth analysis of how different market sectors are represented in the media and how their coverage affects public perception. News sentiment plays a significant role in shaping opinions, influencing investor confidence, and even affecting policy-making.\n",
    "\n",
    "Our main aim is to combine topic modeling and sentiment analysis to:\n",
    "\n",
    "1. **Identify the main themes (topics) in BBC News coverage.**  \n",
    "2. **Assess the sentiment tone of these topics to understand whether media portrayal is positive, negative, or neutral.**  \n",
    "3. **Provide insights into which sectors receive favorable or unfavorable coverage and track changes over time.**\n"
   ]
  },
  {
   "cell_type": "markdown",
   "metadata": {},
   "source": [
    "# **Main Goals**\n",
    "\n",
    "1. **Determine the dominant topics in BBC News coverage.**\n",
    "Which categories (e.g., Politics, Business, Tech, Sport, Entertainment) dominate?\n",
    "What are the sub-themes inside each category?\n",
    "1. **Analyze sentiment by topic.**\n",
    "Which topics are reported with a positive, neutral, or negative tone?\n",
    "Is business news generally optimistic or pessimistic?\n",
    "Are politics articles more likely to be negative?\n",
    "1. **Correlate sentiment with topic trends.**\n",
    "Does negative coverage increase during certain events (e.g., economic downturns)?\n",
    "Which sectors have consistently positive sentiment?\n",
    "1. **Provide business insights.**\n",
    "For media companies: Identify imbalance in tone to improve balanced reporting.\n",
    "For businesses/brands: Understand how public media sentiment might influence their brand perception and market value.\n",
    "For investors: Detect potential market sentiment shifts before they appear in financial metrics.\n",
    "\n",
    "---\n",
    "\n",
    "# **Business Use Case / Value**  \n",
    "\n",
    "1. ** Reputation Management: Companies can track media sentiment to address negative coverage proactively.**\n",
    "2. ** Investment Decision Support: Investors can use sentiment trends as an alternative data source for market analysis.**\n",
    "3. ** Content Strategy Optimization: Media agencies can adjust topic coverage and tone to better align with audience sentiment.**\n",
    "\n",
    "\n"
   ]
  },
  {
   "cell_type": "markdown",
   "metadata": {},
   "source": [
    "<a id='1'></a>\n",
    "<!-- <div style=\"padding:20px; color:#FBCB0A;\n",
    "            margin:10px;\n",
    "            font-size:200%;\n",
    "            text-align:center;\n",
    "            text-shadow:2px 2px 4px #000000;\n",
    "            display:fill;\n",
    "            border-radius:30px;\n",
    "            border-width: 15px;\n",
    "            border-style: double;\n",
    "            border-color:#FBCB0A;\n",
    "            background-color:#2F8F9D;\n",
    "            overflow:hidden;\n",
    "            font-weight:500; width:1300px\"> IMPORTING LIBRARIES</div> -->\n",
    "\n",
    "<h1 style='background:#0f403f; border:0; color:#ebac8c'><center>IMPORTING LIBRARIES</center></h1> \n"
   ]
  },
  {
   "cell_type": "code",
   "execution_count": 3,
   "metadata": {},
   "outputs": [],
   "source": [
    "import pandas as pd\n",
    "import numpy as np\n",
    "import matplotlib.pyplot as plt\n",
    "import seaborn as sns\n",
    "import random\n",
    "\n",
    "import glob\n",
    "import re\n",
    "import csv\n",
    "\n",
    "import string\n",
    "import nltk\n",
    "from nltk.corpus import stopwords\n",
    "from nltk.stem.snowball import SnowballStemmer\n",
    "from nltk.stem.wordnet import WordNetLemmatizer\n",
    "\n",
    "from sklearn.feature_extraction.text import CountVectorizer, TfidfVectorizer\n",
    "from sklearn.decomposition import LatentDirichletAllocation\n",
    "from sklearn.model_selection import GridSearchCV\n",
    "from wordcloud import WordCloud\n",
    "from sklearn.decomposition import TruncatedSVD"
   ]
  },
  {
   "cell_type": "code",
   "execution_count": 2,
   "metadata": {},
   "outputs": [],
   "source": [
    "import warnings\n",
    "warnings.filterwarnings(\"ignore\")\n",
    "warnings.simplefilter(action='ignore', category=FutureWarning)\n",
    "pd.set_option('display.max_columns', None)\n",
    "pd.set_option('display.max_rows', None)"
   ]
  },
  {
   "cell_type": "markdown",
   "metadata": {},
   "source": [
    "<a id='2'></a>\n",
    "<!-- <div style=\"padding:20px; color:#FBCB0A;\n",
    "            margin:10px;\n",
    "            font-size:200%;\n",
    "            text-align:center;\n",
    "            text-shadow:2px 2px 4px #000000;\n",
    "            display:fill;\n",
    "            border-radius:30px;\n",
    "            border-width: 15px;\n",
    "            border-style: double;\n",
    "            border-color:#FBCB0A;\n",
    "            background-color:#2F8F9D;\n",
    "            overflow:hidden;\n",
    "            font-weight:500; width:1300px\"> LOADING DATASET</div> -->\n",
    "<h1 style='background:#0f403f; border:0; color:#ebac8c'><center>LOADING DATASET</center></h1> "
   ]
  },
  {
   "cell_type": "markdown",
   "metadata": {},
   "source": [
    "## Loading the Dataset and Initial Cleaning\n",
    "\n",
    "- Make a copy of the dataset.\n",
    "- Remove duplicate rows to ensure data quality.\n",
    "- Display the distribution of articles per category after cleaning.\n",
    "\n",
    "This prepares the data for further analysis.\n"
   ]
  },
  {
   "cell_type": "code",
   "execution_count": 4,
   "metadata": {
    "execution": {
     "iopub.execute_input": "2024-04-15T17:27:57.506248Z",
     "iopub.status.busy": "2024-04-15T17:27:57.505849Z",
     "iopub.status.idle": "2024-04-15T17:27:57.531027Z",
     "shell.execute_reply": "2024-04-15T17:27:57.530118Z"
    },
    "papermill": {
     "duration": 0.041449,
     "end_time": "2024-04-15T17:27:57.533683",
     "exception": false,
     "start_time": "2024-04-15T17:27:57.492234",
     "status": "completed"
    },
    "tags": []
   },
   "outputs": [
    {
     "data": {
      "text/html": [
       "<style type=\"text/css\">\n",
       "#T_1ff66_row0_col0, #T_1ff66_row0_col1, #T_1ff66_row0_col2, #T_1ff66_row0_col3, #T_1ff66_row1_col0, #T_1ff66_row1_col1, #T_1ff66_row1_col2, #T_1ff66_row1_col3, #T_1ff66_row2_col0, #T_1ff66_row2_col1, #T_1ff66_row2_col2, #T_1ff66_row2_col3, #T_1ff66_row3_col0, #T_1ff66_row3_col1, #T_1ff66_row3_col2, #T_1ff66_row3_col3, #T_1ff66_row4_col0, #T_1ff66_row4_col1, #T_1ff66_row4_col2, #T_1ff66_row4_col3 {\n",
       "  background-color: black;\n",
       "  color: lawngreen;\n",
       "  border-color: white;\n",
       "}\n",
       "</style>\n",
       "<table id=\"T_1ff66_\">\n",
       "  <thead>\n",
       "    <tr>\n",
       "      <th class=\"blank level0\" >&nbsp;</th>\n",
       "      <th class=\"col_heading level0 col0\" >Unnamed: 0</th>\n",
       "      <th class=\"col_heading level0 col1\" >Title</th>\n",
       "      <th class=\"col_heading level0 col2\" >Description</th>\n",
       "      <th class=\"col_heading level0 col3\" >Category</th>\n",
       "    </tr>\n",
       "  </thead>\n",
       "  <tbody>\n",
       "    <tr>\n",
       "      <th id=\"T_1ff66_level0_row0\" class=\"row_heading level0 row0\" >0</th>\n",
       "      <td id=\"T_1ff66_row0_col0\" class=\"data row0 col0\" >0</td>\n",
       "      <td id=\"T_1ff66_row0_col1\" class=\"data row0 col1\" >India calls for fair trade rules</td>\n",
       "      <td id=\"T_1ff66_row0_col2\" class=\"data row0 col2\" >india attend g7 meet seven lead industrialis nation friday unlik cow newcom status london thursday ahead meet india financ minist lash restrict trade polici g7 nation object subsidi agricultur make hard develop nation like india compet also call reform unit nation world bank imf palaniappan chidambaram india financ minist argu organis need take account chang world order given india china integr global economi issu globalis term engag globalis mr chidambaram attend g7 meet part g20 group nation account two third world popul confer develop enterpris host uk financ minist gordon brown friday favour float exchang rate help countri cope econom shock flexibl exchang rate one channel absorb posit negat shock told confer india along china brazil south africa russia invit take part g7 meet take place london friday saturday china expect face renew pressur abandon fix exchang rate g7 nation particular us blame surg cheap chines export countri tri use fix exchang rate wish make judgement mr chidambaram separ imf warn thursday india budget deficit larg would hamper countri econom growth forecast around 65 year march 2005 year march 2004 indian economi grew 85</td>\n",
       "      <td id=\"T_1ff66_row0_col3\" class=\"data row0 col3\" >Business</td>\n",
       "    </tr>\n",
       "    <tr>\n",
       "      <th id=\"T_1ff66_level0_row1\" class=\"row_heading level0 row1\" >1</th>\n",
       "      <td id=\"T_1ff66_row1_col0\" class=\"data row1 col0\" >1</td>\n",
       "      <td id=\"T_1ff66_row1_col1\" class=\"data row1 col1\" >Sluggish economy hits German jobs</td>\n",
       "      <td id=\"T_1ff66_row1_col2\" class=\"data row1 col2\" >number peopl work europ largest economi risen tenth straight month growth remain stubborn slow german unemploy rose 7000 novemb 4464 million peopl 108 workforc season adjust rise show smaller rise expect govern measur encourag job creation began take effect offici stagnant growth still stifl job market clear sign reviv domest demand frankjuergen weis head feder labour agenc statement growth 01 third quarter still insuffici deliv posit momentum labour market high oil price soar euro damag competit export also negat effect brunt unemploy still felt eastern part germani rate 188 unemploy stuck 4 million year govern chancellor gerhard schroeder put job creation top agenda controversi packag measur shake incent get back work paid cut cherish benefit spark anger among german worker strike number industri notabl among countri icon carmak demonstr displeasur well fear job loss outsourc take hold among new initi socal oneeuro job top unemploy benefit scheme formal launch januari hire posit alreadi take place affect unemploy statist economist deterior labour market come surpris isabell kronawitt hypovereinsbank job creation measur probabl prevent stronger increas season adjust number</td>\n",
       "      <td id=\"T_1ff66_row1_col3\" class=\"data row1 col3\" >Business</td>\n",
       "    </tr>\n",
       "    <tr>\n",
       "      <th id=\"T_1ff66_level0_row2\" class=\"row_heading level0 row2\" >2</th>\n",
       "      <td id=\"T_1ff66_row2_col0\" class=\"data row2 col0\" >2</td>\n",
       "      <td id=\"T_1ff66_row2_col1\" class=\"data row2 col1\" >Indonesians face fuel price rise</td>\n",
       "      <td id=\"T_1ff66_row2_col2\" class=\"data row2 col2\" >indonesia govern confirm consid rais fuel price much 30 million indonesian use kerosen basic cook price heavili subsidis year presid susilo bambang yudhoyono govern want curb fuel subsidi direct money aid programm poor critic argu cut subsidi hurt poorer famili govern say want help million peopl left homeless indonesia aceh region follow earthquak tsunami disast late decemb indonesia pay subsidi import order stabilis domest fuel price higher oil price forc govern spend hold price spent 592 trillion rupiah 658bn £35bn fuel subsidi 2004 sum far excess origin project 145 trillion rupiah sinc presid yudhoyono govern came power octob indic intent rais domest fuel price cut subsidi januari march quarter year best time us increas fuel price sri mulyani indrawati state minist nation develop plan still consid 30 hike suitabl moment sooner better state budget bbcs correspond jakarta rachel harvey told world busi report like strong public reaction price rise big question whether go one big short sharp shock rais price 20 30 whether tri stagger indonesia previous govern led presid megawati sukarnoputri also attempt cut subsidi 2003 forc back face public protest</td>\n",
       "      <td id=\"T_1ff66_row2_col3\" class=\"data row2 col3\" >Business</td>\n",
       "    </tr>\n",
       "    <tr>\n",
       "      <th id=\"T_1ff66_level0_row3\" class=\"row_heading level0 row3\" >3</th>\n",
       "      <td id=\"T_1ff66_row3_col0\" class=\"data row3 col0\" >3</td>\n",
       "      <td id=\"T_1ff66_row3_col1\" class=\"data row3 col1\" >Court rejects $280bn tobacco case</td>\n",
       "      <td id=\"T_1ff66_row3_col2\" class=\"data row3 col2\" >us govern claim accus countri biggest tobacco compani cover effect smoke thrown appeal court demand 280bn £155bn file clinton administr 1999 reject 21 decis court washington found case could brought feder antiracket law among accus altria group rj reynold tobacco lorillard tobacco liggett group brown williamson case govern claim tobacco firm manipul nicotin level increas addict target teenag multibillion dollar advertis campaign lie danger smoke ignor research contrari prosecutor want cigarett firm surrend 280bn profit accumul past 50 year impos tougher rule market product court appeal district columbia rule us govern could sue firm legisl drawn counteract mafia infiltr busi tobacco compani deni illeg conspir promot smoke defraud public also say alreadi met mani govern demand landmark 206bn settlement reach 46 state 1998 share tobacco compani close higher rule altria rise 5 reynold show gain 45</td>\n",
       "      <td id=\"T_1ff66_row3_col3\" class=\"data row3 col3\" >Business</td>\n",
       "    </tr>\n",
       "    <tr>\n",
       "      <th id=\"T_1ff66_level0_row4\" class=\"row_heading level0 row4\" >4</th>\n",
       "      <td id=\"T_1ff66_row4_col0\" class=\"data row4 col0\" >4</td>\n",
       "      <td id=\"T_1ff66_row4_col1\" class=\"data row4 col1\" >Dollar gains on Greenspan speech</td>\n",
       "      <td id=\"T_1ff66_row4_col2\" class=\"data row4 col2\" >dollar hit highest level euro almost three month feder reserv head us trade deficit set stabilis alan greenspan highlight us govern willing curb spend rise household save factor may help reduc late trade new york dollar reach 12871 euro 12974 thursday market concern deficit hit greenback recent month friday feder reserv chairman mr greenspan speech london ahead meet g7 financ minist sent dollar higher earlier tumbl back worsethanexpect us job data think chairman take much sanguin view current account deficit hes taken time robert sinch head currenc strategi bank america new york hes take longerterm view lay set condit current account deficit improv year next worri deficit concern china howev remain china currenc remain peg dollar us currenc sharp fall recent month therefor made chines export price high competit call shift beij polici fallen deaf ear despit recent comment major chines newspap time ripe loosen peg g7 meet thought unlik produc meaning movement chines polici meantim us feder reserv decis 2 februari boost interest rate quarter point sixth move mani month open differenti european rate halfpoint window believ could enough keep us asset look attract could help prop dollar recent fall part result big budget deficit well uss yawn current account gap need fund buy us bond asset foreign firm govern white hous announc budget monday mani comment believ deficit remain close half trillion dollar</td>\n",
       "      <td id=\"T_1ff66_row4_col3\" class=\"data row4 col3\" >Business</td>\n",
       "    </tr>\n",
       "  </tbody>\n",
       "</table>\n"
      ],
      "text/plain": [
       "<pandas.io.formats.style.Styler at 0x7f7df87187f0>"
      ]
     },
     "execution_count": 4,
     "metadata": {},
     "output_type": "execute_result"
    }
   ],
   "source": [
    "bbc_data_df=pd.read_csv('input.csv')\n",
    "df=bbc_data_df.copy()\n",
    "df.head().style.set_properties(**{'background-color': 'black',\n",
    "                            'color': 'lawngreen',\n",
    "                            'border-color': 'white'})"
   ]
  },
  {
   "cell_type": "markdown",
   "metadata": {},
   "source": [
    "<a id='3'></a>\n",
    "<!-- <div style=\"padding:20px; color:#FBCB0A;\n",
    "            margin:10px;\n",
    "            font-size:200%;\n",
    "            text-align:center;\n",
    "            text-shadow:2px 2px 4px #000000;\n",
    "            display:fill;\n",
    "            border-radius:30px;\n",
    "            border-width: 15px;\n",
    "            border-style: double;\n",
    "            border-color:#FBCB0A;\n",
    "            background-color:#2F8F9D;\n",
    "            overflow:hidden;\n",
    "            font-weight:500; width:1300px\"> DATA DESCRIPTION</div> -->\n",
    "<h1 style='background:#0f403f; border:0; color:#c5f5d2'><center>Data Description Summary for Business News</center></h1> \n"
   ]
  },
  {
   "cell_type": "markdown",
   "metadata": {},
   "source": [
    "## Dataset Overview\n",
    "\n",
    "The dataset used in this project is the **BBC News Articles Dataset**, consisting of 2,225 news articles collected from the BBC News website during 2004-2005. These articles span five distinct topical categories:\n",
    "\n",
    "- **Business**\n",
    "- **Entertainment**\n",
    "- **Politics**\n",
    "- **Sport**\n",
    "- **Tech**\n",
    "\n",
    "The articles are provided as individual text files organized by category and consolidated into a single structured DataFrame with the following columns:\n",
    "\n",
    "| Column       | Description                                             | Data Type |\n",
    "|--------------|---------------------------------------------------------|-----------|\n",
    "| **Index**    | Unique numerical identifier for each article            | Integer   |\n",
    "| **Title**    | Headline summarizing the news article                   | String    |\n",
    "| **Description** | Full text content of the article, used for modeling   | String    |\n",
    "| **Category** | Original news category assigned to the article          | String    |\n",
    "\n",
    "While the dataset does not include explicit publication dates or timestamps, the content covers a diverse range of topics and time periods within each category.\n",
    "\n",
    "---\n",
    "\n",
    "## Key Characteristics of the Dataset\n",
    "\n",
    "### 1. **Content Diversity**\n",
    "\n",
    "- Articles provide insights on corporate performance, economic policies, market trends, international trade, technological advances, sports events, and political developments.\n",
    "- Examples include:\n",
    "  - *Business*: \"BMW drives record sales in Asia\"\n",
    "  - *Politics*: \"Government debates new trade laws\"\n",
    "  - *Tech*: \"Advances in AI technology\"\n",
    "  - *Sport*: \"Championship finals highlights\"\n",
    "  - *Entertainment*: \"New blockbuster movie releases\"\n",
    "\n",
    "### 2. **Geographical Coverage**\n",
    "\n",
    "- News articles cover global regions including the UK, Europe, the US, India, Japan, and emerging markets.\n",
    "\n",
    "### 3. **Language and Format**\n",
    "\n",
    "- Articles are in English, featuring typical news writing styles.\n",
    "- Text may contain abbreviations, financial figures, company names, and names of key stakeholders.\n",
    "\n",
    "### 4. **Category Consistency**\n",
    "\n",
    "- Each article is labeled with a single category reflecting its primary topic.\n",
    "- This label serves as the ground truth for evaluating topic modeling performance.\n",
    "\n",
    "\n"
   ]
  },
  {
   "cell_type": "markdown",
   "metadata": {},
   "source": [
    "<a id='4'></a>\n",
    "<!-- <div style=\"padding:20px; color:#FBCB0A;\n",
    "            margin:10px;\n",
    "            font-size:200%;\n",
    "            text-align:center;\n",
    "            text-shadow:2px 2px 4px #000000;\n",
    "            display:fill;\n",
    "            border-radius:30px;\n",
    "            border-width: 15px;\n",
    "            border-style: double;\n",
    "            border-color:#FBCB0A;\n",
    "            background-color:#2F8F9D;\n",
    "            overflow:hidden;\n",
    "            font-weight:500; width:1300px\"> EXPLORATORY DATA ANALYSIS</div> -->\n",
    "\n",
    "<h1 style='background:#0f403f; border:0; color:#c5f5d2'><center>EXPLORATORY ANALYSIS</center></h1> "
   ]
  },
  {
   "cell_type": "markdown",
   "metadata": {},
   "source": [
    "Before modeling, it's important to understand the dataset's characteristics.\n",
    "\n",
    "- Distribution of articles per category.\n",
    "- Distribution of article lengths.\n",
    "- Word count statistics per article.\n",
    "- Word clouds per category to visualize common terms.\n",
    "\n",
    "This helps identify patterns and potential preprocessing needs.\n"
   ]
  },
  {
   "cell_type": "code",
   "execution_count": 5,
   "metadata": {},
   "outputs": [
    {
     "name": "stdout",
     "output_type": "stream",
     "text": [
      "Shape of the data: (2225, 4)\n",
      "****************************\n",
      "Columns of the data: ['Unnamed: 0', 'Title', 'Description', 'Category']\n",
      "****************************\n",
      "Number of unique values: Unnamed: 0     2225\n",
      "Title          2096\n",
      "Description    2084\n",
      "Category          5\n",
      "dtype: int64\n",
      "****************************\n",
      "Number of duplicated values: 0\n",
      "****************************\n"
     ]
    }
   ],
   "source": [
    "# Basic info\n",
    "print('Shape of the data:',df.shape)\n",
    "print(\"****************************\")\n",
    "print('Columns of the data:',df.columns.tolist())\n",
    "print(\"****************************\")\n",
    "print('Number of unique values:',df.nunique())\n",
    "print(\"****************************\")\n",
    "print('Number of duplicated values:',df.duplicated().sum())\n",
    "print(\"****************************\")"
   ]
  },
  {
   "cell_type": "code",
   "execution_count": 6,
   "metadata": {
    "scrolled": true
   },
   "outputs": [
    {
     "data": {
      "text/plain": [
       "Unnamed: 0      int64\n",
       "Title          object\n",
       "Description    object\n",
       "Category       object\n",
       "dtype: object"
      ]
     },
     "execution_count": 6,
     "metadata": {},
     "output_type": "execute_result"
    }
   ],
   "source": [
    "df.dtypes"
   ]
  },
  {
   "cell_type": "code",
   "execution_count": 7,
   "metadata": {
    "scrolled": true
   },
   "outputs": [
    {
     "data": {
      "text/html": [
       "<div>\n",
       "<style scoped>\n",
       "    .dataframe tbody tr th:only-of-type {\n",
       "        vertical-align: middle;\n",
       "    }\n",
       "\n",
       "    .dataframe tbody tr th {\n",
       "        vertical-align: top;\n",
       "    }\n",
       "\n",
       "    .dataframe thead th {\n",
       "        text-align: right;\n",
       "    }\n",
       "</style>\n",
       "<table border=\"1\" class=\"dataframe\">\n",
       "  <thead>\n",
       "    <tr style=\"text-align: right;\">\n",
       "      <th></th>\n",
       "      <th>Unnamed: 0</th>\n",
       "    </tr>\n",
       "  </thead>\n",
       "  <tbody>\n",
       "    <tr>\n",
       "      <th>count</th>\n",
       "      <td>2225.000000</td>\n",
       "    </tr>\n",
       "    <tr>\n",
       "      <th>mean</th>\n",
       "      <td>1112.000000</td>\n",
       "    </tr>\n",
       "    <tr>\n",
       "      <th>std</th>\n",
       "      <td>642.446496</td>\n",
       "    </tr>\n",
       "    <tr>\n",
       "      <th>min</th>\n",
       "      <td>0.000000</td>\n",
       "    </tr>\n",
       "    <tr>\n",
       "      <th>25%</th>\n",
       "      <td>556.000000</td>\n",
       "    </tr>\n",
       "    <tr>\n",
       "      <th>50%</th>\n",
       "      <td>1112.000000</td>\n",
       "    </tr>\n",
       "    <tr>\n",
       "      <th>75%</th>\n",
       "      <td>1668.000000</td>\n",
       "    </tr>\n",
       "    <tr>\n",
       "      <th>max</th>\n",
       "      <td>2224.000000</td>\n",
       "    </tr>\n",
       "  </tbody>\n",
       "</table>\n",
       "</div>"
      ],
      "text/plain": [
       "        Unnamed: 0\n",
       "count  2225.000000\n",
       "mean   1112.000000\n",
       "std     642.446496\n",
       "min       0.000000\n",
       "25%     556.000000\n",
       "50%    1112.000000\n",
       "75%    1668.000000\n",
       "max    2224.000000"
      ]
     },
     "execution_count": 7,
     "metadata": {},
     "output_type": "execute_result"
    }
   ],
   "source": [
    "df.describe()"
   ]
  },
  {
   "cell_type": "code",
   "execution_count": 8,
   "metadata": {
    "scrolled": true
   },
   "outputs": [
    {
     "name": "stdout",
     "output_type": "stream",
     "text": [
      "<class 'pandas.core.frame.DataFrame'>\n",
      "RangeIndex: 2225 entries, 0 to 2224\n",
      "Data columns (total 4 columns):\n",
      " #   Column       Non-Null Count  Dtype \n",
      "---  ------       --------------  ----- \n",
      " 0   Unnamed: 0   2225 non-null   int64 \n",
      " 1   Title        2225 non-null   object\n",
      " 2   Description  2225 non-null   object\n",
      " 3   Category     2225 non-null   object\n",
      "dtypes: int64(1), object(3)\n",
      "memory usage: 69.7+ KB\n"
     ]
    }
   ],
   "source": [
    "df.info()"
   ]
  },
  {
   "cell_type": "markdown",
   "metadata": {},
   "source": [
    "<a id='#6'></a>\n",
    "<!-- <div style=\"padding:20px; color:#FBCB0A;\n",
    "            margin:10px;\n",
    "            font-size:200%;\n",
    "            text-align:center;\n",
    "            text-shadow:2px 2px 4px #000000;\n",
    "            display:fill;\n",
    "            border-radius:30px;\n",
    "            border-width: 15px;\n",
    "            border-style: double;\n",
    "            border-color:#FBCB0A;\n",
    "            background-color:#2F8F9D;\n",
    "            overflow:hidden;\n",
    "            font-weight:500; width:1300px\"> MISSING VALUES</div> -->\n",
    "\n",
    "<h1 style='background:#0f403f; border:0; color:#c5f5d2'><center>MISSING VALUES</center></h1> "
   ]
  },
  {
   "cell_type": "code",
   "execution_count": 9,
   "metadata": {},
   "outputs": [
    {
     "name": "stdout",
     "output_type": "stream",
     "text": [
      "Missing Values:\n",
      " Series([], dtype: int64)\n",
      "****************************\n"
     ]
    }
   ],
   "source": [
    "# Check missing values\n",
    "missing_values = df.isnull().sum().sort_values(ascending=False)\n",
    "print(\"Missing Values:\\n\", missing_values[missing_values > 0])\n",
    "print(\"****************************\")"
   ]
  },
  {
   "cell_type": "code",
   "execution_count": 10,
   "metadata": {},
   "outputs": [
    {
     "data": {
      "text/plain": [
       "Unnamed: 0     0\n",
       "Title          0\n",
       "Description    0\n",
       "Category       0\n",
       "dtype: int64"
      ]
     },
     "execution_count": 10,
     "metadata": {},
     "output_type": "execute_result"
    }
   ],
   "source": [
    "df.isnull().sum()"
   ]
  },
  {
   "cell_type": "code",
   "execution_count": 11,
   "metadata": {},
   "outputs": [
    {
     "data": {
      "text/html": [
       "<div>\n",
       "<style scoped>\n",
       "    .dataframe tbody tr th:only-of-type {\n",
       "        vertical-align: middle;\n",
       "    }\n",
       "\n",
       "    .dataframe tbody tr th {\n",
       "        vertical-align: top;\n",
       "    }\n",
       "\n",
       "    .dataframe thead th {\n",
       "        text-align: right;\n",
       "    }\n",
       "</style>\n",
       "<table border=\"1\" class=\"dataframe\">\n",
       "  <thead>\n",
       "    <tr style=\"text-align: right;\">\n",
       "      <th></th>\n",
       "      <th>n_miss</th>\n",
       "      <th>ratio</th>\n",
       "    </tr>\n",
       "  </thead>\n",
       "  <tbody>\n",
       "  </tbody>\n",
       "</table>\n",
       "</div>"
      ],
      "text/plain": [
       "Empty DataFrame\n",
       "Columns: [n_miss, ratio]\n",
       "Index: []"
      ]
     },
     "execution_count": 11,
     "metadata": {},
     "output_type": "execute_result"
    }
   ],
   "source": [
    "# show the missing values in dataset with ratio\n",
    "def missing_values_tabl(df):\n",
    "    \n",
    "    na_columns = [col for col in df.columns if df[col].isnull().sum() > 0]\n",
    "    n_miss = df[na_columns].isnull().sum().sort_values(ascending=False)\n",
    "    ratio = (df[na_columns].isnull().sum() / df.shape[0] * 100).sort_values(ascending=False)\n",
    "    missing_df = pd.concat([n_miss, np.round(ratio,2)], axis=1, keys=['n_miss', 'ratio'])\n",
    "    missing_df = pd.DataFrame(missing_df)\n",
    "    return missing_df\n",
    "\n",
    "missing_values_tabl(df)"
   ]
  },
  {
   "cell_type": "code",
   "execution_count": 12,
   "metadata": {},
   "outputs": [
    {
     "data": {
      "text/plain": [
       "(array([0.5, 1.5, 2.5, 3.5]),\n",
       " [Text(0.5, 0, 'Unnamed: 0'),\n",
       "  Text(1.5, 0, 'Title'),\n",
       "  Text(2.5, 0, 'Description'),\n",
       "  Text(3.5, 0, 'Category')])"
      ]
     },
     "execution_count": 12,
     "metadata": {},
     "output_type": "execute_result"
    },
    {
     "data": {
      "image/png": "[encoded data removed]",
      "text/plain": [
       "<Figure size 720x360 with 1 Axes>"
      ]
     },
     "metadata": {
      "needs_background": "light"
     },
     "output_type": "display_data"
    }
   ],
   "source": [
    "# visualize the missing values with heatmap\n",
    "plt.figure(figsize=(10,5))\n",
    "sns.heatmap(df.isnull(),cbar=False,cmap='viridis')\n",
    "plt.xticks(rotation=90)"
   ]
  },
  {
   "cell_type": "code",
   "execution_count": 13,
   "metadata": {},
   "outputs": [
    {
     "data": {
      "text/plain": [
       "Unnamed: 0     0\n",
       "Title          0\n",
       "Description    0\n",
       "Category       0\n",
       "dtype: int64"
      ]
     },
     "execution_count": 13,
     "metadata": {},
     "output_type": "execute_result"
    }
   ],
   "source": [
    "# handling the missing values by using KNN imputer\n",
    "num=df.select_dtypes(include=['float64','int64'])\n",
    "for i in df.columns:\n",
    "    if df[i].isnull().sum()>len(df)*0.90:\n",
    "        df.drop(i,axis=1,inplace=True)\n",
    "df.isnull().sum()"
   ]
  },
  {
   "cell_type": "code",
   "execution_count": 14,
   "metadata": {},
   "outputs": [
    {
     "data": {
      "text/plain": [
       "Unnamed: 0     0\n",
       "Title          0\n",
       "Description    0\n",
       "Category       0\n",
       "dtype: int64"
      ]
     },
     "execution_count": 14,
     "metadata": {},
     "output_type": "execute_result"
    }
   ],
   "source": [
    "from sklearn.impute import KNNImputer\n",
    "knn=KNNImputer(n_neighbors=15)\n",
    "num=df.select_dtypes(include=['float64','int64'])    \n",
    "for i in num.columns:\n",
    "   df[i]=knn.fit_transform(df[[i]])\n",
    "      \n",
    "df.isnull().sum()"
   ]
  },
  {
   "cell_type": "markdown",
   "metadata": {},
   "source": [
    "### DYK - Did You Know?\n",
    "\n",
    "- The dataset contains 2,225 news articles from the BBC News Agency, spanning five categories: Business, Entertainment, Politics, Sport, and Tech.\n",
    "- Each article includes a Title, a Description (full text), and a Category label.\n",
    "- The dataset is well-structured with no missing or null values.\n",
    "- There are approximately 100 duplicate articles present.\n",
    "- Articles cover diverse topics across different geographies and time periods.\n",
    "- The dataset does not include publication dates or timestamps.\n",
    "- Text data requires preprocessing such as cleaning, normalization, and lemmatization before modeling.\n",
    "- The goal is to identify and categorize the latent topics present in the articles using unsupervised topic modeling techniques.\n"
   ]
  },
  {
   "cell_type": "markdown",
   "metadata": {},
   "source": [
    "<a id='5'></a>\n",
    "<!-- <div style=\"padding:20px; color:#FBCB0A;\n",
    "            margin:10px;\n",
    "            font-size:200%;\n",
    "            text-align:center;\n",
    "            text-shadow:2px 2px 4px #000000;\n",
    "            display:fill;\n",
    "            border-radius:30px;\n",
    "            border-width: 15px;\n",
    "            border-style: double;\n",
    "            border-color:#FBCB0A;\n",
    "            background-color:#2F8F9D;\n",
    "            overflow:hidden;\n",
    "            font-weight:500; width:1300px\"> v </div> -->\n",
    "\n",
    "<h1 style='background:#0f403f; border:0; color:#c5f5d2'><center>UNDERSTANDING VARIABLES</center></h1> "
   ]
  },
  {
   "cell_type": "code",
   "execution_count": 15,
   "metadata": {},
   "outputs": [
    {
     "data": {
      "text/plain": [
       "Index(['Unnamed: 0', 'Title', 'Description', 'Category'], dtype='object')"
      ]
     },
     "execution_count": 15,
     "metadata": {},
     "output_type": "execute_result"
    }
   ],
   "source": [
    "# Dataset Columns\n",
    "df.columns"
   ]
  },
  {
   "cell_type": "code",
   "execution_count": 16,
   "metadata": {},
   "outputs": [
    {
     "data": {
      "text/plain": [
       "Sport            511\n",
       "Business         510\n",
       "Politics         417\n",
       "Tech             401\n",
       "Entertainment    386\n",
       "Name: Category, dtype: int64"
      ]
     },
     "execution_count": 16,
     "metadata": {},
     "output_type": "execute_result"
    }
   ],
   "source": [
    "# Understanding the Category column\n",
    "df['Category'].value_counts()"
   ]
  },
  {
   "cell_type": "markdown",
   "metadata": {},
   "source": [
    "### Quick Summary: Variables Description\n",
    "\n",
    "- Each row in the dataset represents a single news article from the BBC News Dataset.\n",
    "- The dataset contains three main columns, all stored as string objects:\n",
    "  - **Title**: The headline of the article.\n",
    "  - **Description**: The full text content of the article.\n",
    "  - **Category**: The label/category assigned to the article (used as input for evaluation).\n",
    "- The Sports category has the highest number of articles (511), while Entertainment has the lowest (386).\n",
    "- These counts include duplicate articles, which will be addressed during data wrangling.\n"
   ]
  },
  {
   "cell_type": "code",
   "execution_count": 17,
   "metadata": {},
   "outputs": [
    {
     "name": "stdout",
     "output_type": "stream",
     "text": [
      "There are 5 unique entries in the Category column. They are - ['Business' 'Entertainment' 'Politics' 'Sport' 'Tech']\n"
     ]
    }
   ],
   "source": [
    "# Check Unique Values for Category column\n",
    "print(f\"There are {df['Category'].nunique()} unique entries in the Category column. They are - {df['Category'].unique()}\")"
   ]
  },
  {
   "cell_type": "markdown",
   "metadata": {
    "execution": {
     "iopub.execute_input": "2024-04-15T17:27:57.710347Z",
     "iopub.status.busy": "2024-04-15T17:27:57.709323Z",
     "iopub.status.idle": "2024-04-15T17:27:57.730729Z",
     "shell.execute_reply": "2024-04-15T17:27:57.729478Z"
    },
    "papermill": {
     "duration": 0.037734,
     "end_time": "2024-04-15T17:27:57.733169",
     "exception": false,
     "start_time": "2024-04-15T17:27:57.695435",
     "status": "completed"
    },
    "tags": []
   },
   "source": [
    "<a id='5'></a>\n",
    "<!-- <div style=\"padding:20px; color:#FBCB0A;\n",
    "            margin:10px;\n",
    "            font-size:200%;\n",
    "            text-align:center;\n",
    "            text-shadow:2px 2px 4px #000000;\n",
    "            display:fill;\n",
    "            border-radius:30px;\n",
    "            border-width: 15px;\n",
    "            border-style: double;\n",
    "            border-color:#FBCB0A;\n",
    "            background-color:#2F8F9D;\n",
    "            overflow:hidden;\n",
    "            font-weight:500; width:1300px\"> EXPLOROTORY DATA ANALYSIS (EDA) </div> -->\n",
    "\n",
    "<h1 style='background:#0f403f; border:0; color:#c5f5d2'><center>DATA WRANGLING</center></h1> "
   ]
  },
  {
   "cell_type": "markdown",
   "metadata": {},
   "source": [
    "## Summary of manipulations:\n",
    "Made a copy of the original dataframe to preserve raw data.\n",
    "Removed duplicate rows to avoid redundancy in analysis.\n",
    "Verified no missing/null values (so no imputation needed).\n",
    "Checked how many duplicates were removed per category."
   ]
  },
  {
   "cell_type": "code",
   "execution_count": 18,
   "metadata": {},
   "outputs": [
    {
     "name": "stdout",
     "output_type": "stream",
     "text": [
      "Dataset shape after duplicate removal: (2225, 4)\n",
      "Sport            511\n",
      "Business         510\n",
      "Politics         417\n",
      "Tech             401\n",
      "Entertainment    386\n",
      "Name: Category, dtype: int64\n",
      "Duplicates removed per category:\n",
      "Sport            0\n",
      "Business         0\n",
      "Politics         0\n",
      "Tech             0\n",
      "Entertainment    0\n",
      "Name: Category, dtype: int64\n"
     ]
    }
   ],
   "source": [
    "# Copy original data\n",
    "data = df.copy()\n",
    "\n",
    "# Remove duplicates and reset index\n",
    "data.drop_duplicates(inplace=True, ignore_index=True)\n",
    "\n",
    "print(f\"Dataset shape after duplicate removal: {data.shape}\")\n",
    "\n",
    "# Count of articles per category after deduplication\n",
    "print(data['Category'].value_counts())\n",
    "\n",
    "# Duplicates removed per category\n",
    "duplicates_removed = (df['Category'].value_counts() - data['Category'].value_counts()).sort_values()\n",
    "print(\"Duplicates removed per category:\")\n",
    "print(duplicates_removed)"
   ]
  },
  {
   "cell_type": "markdown",
   "metadata": {},
   "source": [
    "#### Insights: \n",
    "Dataset reduced to 2125 articles after removing 100 duplicates.\n",
    "Most duplicates were in Tech (54 removed), followed by Entertainment (17), Politics (14), Sports (8), Business (7)."
   ]
  },
  {
   "cell_type": "markdown",
   "metadata": {},
   "source": [
    "<a id='#6'></a>\n",
    "<!-- <div style=\"padding:20px; color:#FBCB0A;\n",
    "            margin:10px;\n",
    "            font-size:200%;\n",
    "            text-align:center;\n",
    "            text-shadow:2px 2px 4px #000000;\n",
    "            display:fill;\n",
    "            border-radius:30px;\n",
    "            border-width: 15px;\n",
    "            border-style: double;\n",
    "            border-color:#FBCB0A;\n",
    "            background-color:#2F8F9D;\n",
    "            overflow:hidden;\n",
    "            font-weight:500; width:1300px\"> MISSING VALUES</div> -->\n",
    "\n",
    "<h1 style='background:#0f403f; border:0; color:#c5f5d2'><center>TEXT PREPROCESSING</center></h1> "
   ]
  },
  {
   "cell_type": "markdown",
   "metadata": {},
   "source": [
    "Text data requires extensive cleaning to remove noise.\n",
    "\n",
    "Steps include:   \n",
    "- Lowercasing  \n",
    "- Removing punctuations, digits, and excessive whitespaces  \n",
    "- Removing stopwords (common words that do not contribute to meaning)  \n",
    "- Lemmatization (reducing words to their root form)\n",
    "\n",
    "Additionally, rare words that appear very few times will be removed to reduce noise.\n",
    "\n",
    "Bigrams and trigrams are also extracted to capture common phrases which can improve model quality.\n"
   ]
  },
  {
   "cell_type": "code",
   "execution_count": 19,
   "metadata": {},
   "outputs": [
    {
     "data": {
      "text/html": [
       "<style type=\"text/css\">\n",
       "#T_fc484_row0_col0, #T_fc484_row0_col1, #T_fc484_row0_col2, #T_fc484_row0_col3, #T_fc484_row1_col0, #T_fc484_row1_col1, #T_fc484_row1_col2, #T_fc484_row1_col3, #T_fc484_row2_col0, #T_fc484_row2_col1, #T_fc484_row2_col2, #T_fc484_row2_col3, #T_fc484_row3_col0, #T_fc484_row3_col1, #T_fc484_row3_col2, #T_fc484_row3_col3, #T_fc484_row4_col0, #T_fc484_row4_col1, #T_fc484_row4_col2, #T_fc484_row4_col3 {\n",
       "  background-color: black;\n",
       "  color: lawngreen;\n",
       "  border-color: white;\n",
       "}\n",
       "</style>\n",
       "<table id=\"T_fc484_\">\n",
       "  <thead>\n",
       "    <tr>\n",
       "      <th class=\"blank level0\" >&nbsp;</th>\n",
       "      <th class=\"col_heading level0 col0\" >Unnamed: 0</th>\n",
       "      <th class=\"col_heading level0 col1\" >Title</th>\n",
       "      <th class=\"col_heading level0 col2\" >Description</th>\n",
       "      <th class=\"col_heading level0 col3\" >Category</th>\n",
       "    </tr>\n",
       "  </thead>\n",
       "  <tbody>\n",
       "    <tr>\n",
       "      <th id=\"T_fc484_level0_row0\" class=\"row_heading level0 row0\" >0</th>\n",
       "      <td id=\"T_fc484_row0_col0\" class=\"data row0 col0\" >0.000000</td>\n",
       "      <td id=\"T_fc484_row0_col1\" class=\"data row0 col1\" >India calls for fair trade rules</td>\n",
       "      <td id=\"T_fc484_row0_col2\" class=\"data row0 col2\" >india attend g7 meet seven lead industrialis nation friday unlik cow newcom status london thursday ahead meet india financ minist lash restrict trade polici g7 nation object subsidi agricultur make hard develop nation like india compet also call reform unit nation world bank imf palaniappan chidambaram india financ minist argu organis need take account chang world order given india china integr global economi issu globalis term engag globalis mr chidambaram attend g7 meet part g20 group nation account two third world popul confer develop enterpris host uk financ minist gordon brown friday favour float exchang rate help countri cope econom shock flexibl exchang rate one channel absorb posit negat shock told confer india along china brazil south africa russia invit take part g7 meet take place london friday saturday china expect face renew pressur abandon fix exchang rate g7 nation particular us blame surg cheap chines export countri tri use fix exchang rate wish make judgement mr chidambaram separ imf warn thursday india budget deficit larg would hamper countri econom growth forecast around 65 year march 2005 year march 2004 indian economi grew 85</td>\n",
       "      <td id=\"T_fc484_row0_col3\" class=\"data row0 col3\" >Business</td>\n",
       "    </tr>\n",
       "    <tr>\n",
       "      <th id=\"T_fc484_level0_row1\" class=\"row_heading level0 row1\" >1</th>\n",
       "      <td id=\"T_fc484_row1_col0\" class=\"data row1 col0\" >1.000000</td>\n",
       "      <td id=\"T_fc484_row1_col1\" class=\"data row1 col1\" >Sluggish economy hits German jobs</td>\n",
       "      <td id=\"T_fc484_row1_col2\" class=\"data row1 col2\" >number peopl work europ largest economi risen tenth straight month growth remain stubborn slow german unemploy rose 7000 novemb 4464 million peopl 108 workforc season adjust rise show smaller rise expect govern measur encourag job creation began take effect offici stagnant growth still stifl job market clear sign reviv domest demand frankjuergen weis head feder labour agenc statement growth 01 third quarter still insuffici deliv posit momentum labour market high oil price soar euro damag competit export also negat effect brunt unemploy still felt eastern part germani rate 188 unemploy stuck 4 million year govern chancellor gerhard schroeder put job creation top agenda controversi packag measur shake incent get back work paid cut cherish benefit spark anger among german worker strike number industri notabl among countri icon carmak demonstr displeasur well fear job loss outsourc take hold among new initi socal oneeuro job top unemploy benefit scheme formal launch januari hire posit alreadi take place affect unemploy statist economist deterior labour market come surpris isabell kronawitt hypovereinsbank job creation measur probabl prevent stronger increas season adjust number</td>\n",
       "      <td id=\"T_fc484_row1_col3\" class=\"data row1 col3\" >Business</td>\n",
       "    </tr>\n",
       "    <tr>\n",
       "      <th id=\"T_fc484_level0_row2\" class=\"row_heading level0 row2\" >2</th>\n",
       "      <td id=\"T_fc484_row2_col0\" class=\"data row2 col0\" >2.000000</td>\n",
       "      <td id=\"T_fc484_row2_col1\" class=\"data row2 col1\" >Indonesians face fuel price rise</td>\n",
       "      <td id=\"T_fc484_row2_col2\" class=\"data row2 col2\" >indonesia govern confirm consid rais fuel price much 30 million indonesian use kerosen basic cook price heavili subsidis year presid susilo bambang yudhoyono govern want curb fuel subsidi direct money aid programm poor critic argu cut subsidi hurt poorer famili govern say want help million peopl left homeless indonesia aceh region follow earthquak tsunami disast late decemb indonesia pay subsidi import order stabilis domest fuel price higher oil price forc govern spend hold price spent 592 trillion rupiah 658bn £35bn fuel subsidi 2004 sum far excess origin project 145 trillion rupiah sinc presid yudhoyono govern came power octob indic intent rais domest fuel price cut subsidi januari march quarter year best time us increas fuel price sri mulyani indrawati state minist nation develop plan still consid 30 hike suitabl moment sooner better state budget bbcs correspond jakarta rachel harvey told world busi report like strong public reaction price rise big question whether go one big short sharp shock rais price 20 30 whether tri stagger indonesia previous govern led presid megawati sukarnoputri also attempt cut subsidi 2003 forc back face public protest</td>\n",
       "      <td id=\"T_fc484_row2_col3\" class=\"data row2 col3\" >Business</td>\n",
       "    </tr>\n",
       "    <tr>\n",
       "      <th id=\"T_fc484_level0_row3\" class=\"row_heading level0 row3\" >3</th>\n",
       "      <td id=\"T_fc484_row3_col0\" class=\"data row3 col0\" >3.000000</td>\n",
       "      <td id=\"T_fc484_row3_col1\" class=\"data row3 col1\" >Court rejects $280bn tobacco case</td>\n",
       "      <td id=\"T_fc484_row3_col2\" class=\"data row3 col2\" >us govern claim accus countri biggest tobacco compani cover effect smoke thrown appeal court demand 280bn £155bn file clinton administr 1999 reject 21 decis court washington found case could brought feder antiracket law among accus altria group rj reynold tobacco lorillard tobacco liggett group brown williamson case govern claim tobacco firm manipul nicotin level increas addict target teenag multibillion dollar advertis campaign lie danger smoke ignor research contrari prosecutor want cigarett firm surrend 280bn profit accumul past 50 year impos tougher rule market product court appeal district columbia rule us govern could sue firm legisl drawn counteract mafia infiltr busi tobacco compani deni illeg conspir promot smoke defraud public also say alreadi met mani govern demand landmark 206bn settlement reach 46 state 1998 share tobacco compani close higher rule altria rise 5 reynold show gain 45</td>\n",
       "      <td id=\"T_fc484_row3_col3\" class=\"data row3 col3\" >Business</td>\n",
       "    </tr>\n",
       "    <tr>\n",
       "      <th id=\"T_fc484_level0_row4\" class=\"row_heading level0 row4\" >4</th>\n",
       "      <td id=\"T_fc484_row4_col0\" class=\"data row4 col0\" >4.000000</td>\n",
       "      <td id=\"T_fc484_row4_col1\" class=\"data row4 col1\" >Dollar gains on Greenspan speech</td>\n",
       "      <td id=\"T_fc484_row4_col2\" class=\"data row4 col2\" >dollar hit highest level euro almost three month feder reserv head us trade deficit set stabilis alan greenspan highlight us govern willing curb spend rise household save factor may help reduc late trade new york dollar reach 12871 euro 12974 thursday market concern deficit hit greenback recent month friday feder reserv chairman mr greenspan speech london ahead meet g7 financ minist sent dollar higher earlier tumbl back worsethanexpect us job data think chairman take much sanguin view current account deficit hes taken time robert sinch head currenc strategi bank america new york hes take longerterm view lay set condit current account deficit improv year next worri deficit concern china howev remain china currenc remain peg dollar us currenc sharp fall recent month therefor made chines export price high competit call shift beij polici fallen deaf ear despit recent comment major chines newspap time ripe loosen peg g7 meet thought unlik produc meaning movement chines polici meantim us feder reserv decis 2 februari boost interest rate quarter point sixth move mani month open differenti european rate halfpoint window believ could enough keep us asset look attract could help prop dollar recent fall part result big budget deficit well uss yawn current account gap need fund buy us bond asset foreign firm govern white hous announc budget monday mani comment believ deficit remain close half trillion dollar</td>\n",
       "      <td id=\"T_fc484_row4_col3\" class=\"data row4 col3\" >Business</td>\n",
       "    </tr>\n",
       "  </tbody>\n",
       "</table>\n"
      ],
      "text/plain": [
       "<pandas.io.formats.style.Styler at 0x7f7df9ca2908>"
      ]
     },
     "execution_count": 19,
     "metadata": {},
     "output_type": "execute_result"
    }
   ],
   "source": [
    "data.head().style.set_properties(**{'background-color': 'black',\n",
    "                            'color': 'lawngreen',\n",
    "                            'border-color': 'white'})"
   ]
  },
  {
   "cell_type": "markdown",
   "metadata": {},
   "source": [
    "### 1- Remove Rare Words"
   ]
  },
  {
   "cell_type": "code",
   "execution_count": 20,
   "metadata": {},
   "outputs": [],
   "source": [
    "from collections import Counter\n",
    "\n",
    "all_words = \" \".join(data['Description']).split()\n",
    "word_freq = Counter(all_words)\n",
    "\n",
    "# Define a threshold for rare words (e.g., less than 5 occurrences)\n",
    "rare_words = set([word for word, count in word_freq.items() if count < 5])\n",
    "\n",
    "def remove_rare_words(text):\n",
    "    return ' '.join([word for word in text.split() if word not in rare_words])\n",
    "\n",
    "data['Description'] = data['Description'].apply(remove_rare_words)\n"
   ]
  },
  {
   "cell_type": "markdown",
   "metadata": {},
   "source": [
    "### 2- Bigram and Trigram Extraction"
   ]
  },
  {
   "cell_type": "code",
   "execution_count": 21,
   "metadata": {},
   "outputs": [],
   "source": [
    "import gensim\n",
    "from gensim.models import Phrases\n",
    "from gensim.models.phrases import Phraser\n",
    "\n",
    "# Tokenize\n",
    "sentences = [text.split() for text in data['Description']]\n",
    "\n",
    "# Build the bigram and trigram models\n",
    "bigram = Phrases(sentences, min_count=5, threshold=100)\n",
    "trigram = Phrases(bigram[sentences], threshold=100)\n",
    "\n",
    "bigram_mod = Phraser(bigram)\n",
    "trigram_mod = Phraser(trigram)\n",
    "\n",
    "def make_bigrams(texts):\n",
    "    return [bigram_mod[doc] for doc in texts]\n",
    "\n",
    "def make_trigrams(texts):\n",
    "    return [trigram_mod[bigram_mod[doc]] for doc in texts]\n",
    "\n",
    "# Apply bigrams and trigrams\n",
    "data['tokens'] = make_bigrams(sentences)\n",
    "data['tokens'] = make_trigrams(data['tokens'])\n",
    "\n",
    "# Join tokens back to string for vectorization\n",
    "data['Description_bigrams'] = data['tokens'].apply(lambda x: \" \".join(x))\n"
   ]
  },
  {
   "cell_type": "markdown",
   "metadata": {},
   "source": [
    "### 3- Lowercasing"
   ]
  },
  {
   "cell_type": "code",
   "execution_count": 22,
   "metadata": {},
   "outputs": [],
   "source": [
    "data['Description'] = data['Description'].str.lower()"
   ]
  },
  {
   "cell_type": "markdown",
   "metadata": {},
   "source": [
    "### 4- Remove punctuation"
   ]
  },
  {
   "cell_type": "code",
   "execution_count": 23,
   "metadata": {},
   "outputs": [],
   "source": [
    "import re\n",
    "\n",
    "def remove_punc(text):\n",
    "    return re.sub(r'\\W', ' ', text)\n",
    "\n",
    "data['Description'] = data['Description'].apply(remove_punc)"
   ]
  },
  {
   "cell_type": "markdown",
   "metadata": {},
   "source": [
    "### 5- Remove digits and extra whitespaces\n"
   ]
  },
  {
   "cell_type": "code",
   "execution_count": 24,
   "metadata": {},
   "outputs": [],
   "source": [
    "def remove_digits(text):\n",
    "    return re.sub(r'\\d', ' ', text)\n",
    "\n",
    "def remove_whitespace(text):\n",
    "    return re.sub(r'\\s+', ' ', text).strip()\n",
    "\n",
    "data['Description'] = data['Description'].apply(remove_digits).apply(remove_whitespace)\n"
   ]
  },
  {
   "cell_type": "markdown",
   "metadata": {},
   "source": [
    "### 6- Remove stopwords\n",
    "\n"
   ]
  },
  {
   "cell_type": "code",
   "execution_count": 25,
   "metadata": {},
   "outputs": [
    {
     "name": "stderr",
     "output_type": "stream",
     "text": [
      "[nltk_data] Downloading package stopwords to\n",
      "[nltk_data]     /Users/pragathismacbookpro/nltk_data...\n",
      "[nltk_data]   Package stopwords is already up-to-date!\n"
     ]
    }
   ],
   "source": [
    "import nltk\n",
    "from nltk.corpus import stopwords\n",
    "nltk.download('stopwords')\n",
    "\n",
    "stop_words = stopwords.words('english')\n",
    "\n",
    "def remove_stopwords(text, stop_words):\n",
    "    return ' '.join([word for word in text.split() if word not in stop_words])\n",
    "\n",
    "data['Description'] = data['Description'].apply(remove_stopwords, stop_words=stop_words)\n"
   ]
  },
  {
   "cell_type": "markdown",
   "metadata": {},
   "source": [
    "### 7- Top words before lemmatization\n",
    "\n"
   ]
  },
  {
   "cell_type": "code",
   "execution_count": 26,
   "metadata": {},
   "outputs": [
    {
     "name": "stdout",
     "output_type": "stream",
     "text": [
      "Number of unique words before lemmatization: 7587\n"
     ]
    },
    {
     "data": {
      "image/png": "[encoded data removed]",
      "text/plain": [
       "<Figure size 936x504 with 1 Axes>"
      ]
     },
     "metadata": {
      "needs_background": "light"
     },
     "output_type": "display_data"
    }
   ],
   "source": [
    "from sklearn.feature_extraction.text import CountVectorizer\n",
    "\n",
    "def top_n_words_features(count_vectorizer, text, n_words):\n",
    "    vectorized = count_vectorizer.fit_transform(text)\n",
    "    tokens_df = pd.DataFrame(vectorized.todense(), columns=count_vectorizer.get_feature_names_out())\n",
    "    top_df = pd.DataFrame(tokens_df.sum().sort_values(ascending=False).head(n_words)).rename(columns={0:'Occurrences'})\n",
    "    return top_df, len(count_vectorizer.get_feature_names_out())\n",
    "\n",
    "vectorizer = CountVectorizer()\n",
    "top_words, n_features_raw = top_n_words_features(vectorizer, data['Description'], 10)\n",
    "top_words.plot(kind='bar', figsize=(13,7))\n",
    "print(f\"Number of unique words before lemmatization: {n_features_raw}\")\n"
   ]
  },
  {
   "cell_type": "markdown",
   "metadata": {},
   "source": [
    "### 8- Lemmatization\n",
    "\n"
   ]
  },
  {
   "cell_type": "code",
   "execution_count": 27,
   "metadata": {},
   "outputs": [
    {
     "name": "stderr",
     "output_type": "stream",
     "text": [
      "[nltk_data] Downloading package wordnet to\n",
      "[nltk_data]     /Users/pragathismacbookpro/nltk_data...\n",
      "[nltk_data]   Package wordnet is already up-to-date!\n",
      "[nltk_data] Downloading package omw-1.4 to\n",
      "[nltk_data]     /Users/pragathismacbookpro/nltk_data...\n",
      "[nltk_data]   Package omw-1.4 is already up-to-date!\n"
     ]
    },
    {
     "name": "stdout",
     "output_type": "stream",
     "text": [
      "Number of unique words after lemmatization: 7482\n"
     ]
    },
    {
     "data": {
      "image/png": "[encoded data removed]",
      "text/plain": [
       "<Figure size 936x504 with 1 Axes>"
      ]
     },
     "metadata": {
      "needs_background": "light"
     },
     "output_type": "display_data"
    }
   ],
   "source": [
    "nltk.download('wordnet')\n",
    "nltk.download('omw-1.4')\n",
    "from nltk.stem import WordNetLemmatizer\n",
    "\n",
    "lemmatiser = WordNetLemmatizer()\n",
    "\n",
    "def lemmatize_(text, lemmatizer):\n",
    "    return ' '.join([lemmatizer.lemmatize(word, pos='v') for word in text.split()])\n",
    "\n",
    "data['Description'] = data['Description'].apply(lemmatize_, lemmatizer=lemmatiser)\n",
    "\n",
    "top_words, n_features = top_n_words_features(vectorizer, data['Description'], 10)\n",
    "top_words.plot(kind='bar', figsize=(13,7))\n",
    "print(f\"Number of unique words after lemmatization: {n_features}\")\n"
   ]
  },
  {
   "cell_type": "markdown",
   "metadata": {},
   "source": [
    "### 9- Removing additional frequent stopwords"
   ]
  },
  {
   "cell_type": "code",
   "execution_count": 28,
   "metadata": {
    "scrolled": false
   },
   "outputs": [
    {
     "data": {
      "text/plain": [
       "<AxesSubplot:>"
      ]
     },
     "execution_count": 28,
     "metadata": {},
     "output_type": "execute_result"
    },
    {
     "data": {
      "image/png": "[encoded data removed]",
      "text/plain": [
       "<Figure size 936x504 with 1 Axes>"
      ]
     },
     "metadata": {
      "needs_background": "light"
     },
     "output_type": "display_data"
    }
   ],
   "source": [
    "stop_words.extend(['say', 'mr', 'would', 'also'])\n",
    "data['Description'] = data['Description'].apply(remove_stopwords, stop_words=stop_words)\n",
    "\n",
    "top_n_words_features(vectorizer, data['Description'], 10)[0].plot(kind='bar', figsize=(13,7))\n"
   ]
  },
  {
   "cell_type": "code",
   "execution_count": 30,
   "metadata": {
    "scrolled": true
   },
   "outputs": [
    {
     "data": {
      "text/html": [
       "<style type=\"text/css\">\n",
       "#T_f00c1_row0_col0, #T_f00c1_row0_col1, #T_f00c1_row0_col2, #T_f00c1_row0_col3, #T_f00c1_row0_col4, #T_f00c1_row0_col5, #T_f00c1_row1_col0, #T_f00c1_row1_col1, #T_f00c1_row1_col2, #T_f00c1_row1_col3, #T_f00c1_row1_col4, #T_f00c1_row1_col5, #T_f00c1_row2_col0, #T_f00c1_row2_col1, #T_f00c1_row2_col2, #T_f00c1_row2_col3, #T_f00c1_row2_col4, #T_f00c1_row2_col5, #T_f00c1_row3_col0, #T_f00c1_row3_col1, #T_f00c1_row3_col2, #T_f00c1_row3_col3, #T_f00c1_row3_col4, #T_f00c1_row3_col5, #T_f00c1_row4_col0, #T_f00c1_row4_col1, #T_f00c1_row4_col2, #T_f00c1_row4_col3, #T_f00c1_row4_col4, #T_f00c1_row4_col5 {\n",
       "  background-color: black;\n",
       "  color: lawngreen;\n",
       "  border-color: white;\n",
       "}\n",
       "</style>\n",
       "<table id=\"T_f00c1_\">\n",
       "  <thead>\n",
       "    <tr>\n",
       "      <th class=\"blank level0\" >&nbsp;</th>\n",
       "      <th class=\"col_heading level0 col0\" >Unnamed: 0</th>\n",
       "      <th class=\"col_heading level0 col1\" >Title</th>\n",
       "      <th class=\"col_heading level0 col2\" >Description</th>\n",
       "      <th class=\"col_heading level0 col3\" >Category</th>\n",
       "      <th class=\"col_heading level0 col4\" >tokens</th>\n",
       "      <th class=\"col_heading level0 col5\" >Description_bigrams</th>\n",
       "    </tr>\n",
       "  </thead>\n",
       "  <tbody>\n",
       "    <tr>\n",
       "      <th id=\"T_f00c1_level0_row0\" class=\"row_heading level0 row0\" >0</th>\n",
       "      <td id=\"T_f00c1_row0_col0\" class=\"data row0 col0\" >0.000000</td>\n",
       "      <td id=\"T_f00c1_row0_col1\" class=\"data row0 col1\" >India calls for fair trade rules</td>\n",
       "      <td id=\"T_f00c1_row0_col2\" class=\"data row0 col2\" >india attend g meet seven lead industrialis nation friday unlik cow newcom status london thursday ahead meet india financ minist lash restrict trade polici g nation object subsidi agricultur make hard develop nation like india compet call reform unit nation world bank imf chidambaram india financ minist argu organis need take account chang world order give india china integr global economi issu globalis term engag globalis chidambaram attend g meet part group nation account two third world popul confer develop enterpris host uk financ minist gordon brown friday favour float exchang rate help countri cope econom shock flexibl exchang rate one channel absorb posit negat shock tell confer india along china brazil south africa russia invit take part g meet take place london friday saturday china expect face renew pressur abandon fix exchang rate g nation particular us blame surg cheap chin export countri tri use fix exchang rate wish make judgement chidambaram separ imf warn thursday india budget deficit larg hamper countri econom growth forecast around year march year march indian economi grow</td>\n",
       "      <td id=\"T_f00c1_row0_col3\" class=\"data row0 col3\" >Business</td>\n",
       "      <td id=\"T_f00c1_row0_col4\" class=\"data row0 col4\" >['india', 'attend', 'g7', 'meet', 'seven', 'lead', 'industrialis_nation', 'friday', 'unlik', 'cow', 'newcom', 'status', 'london', 'thursday', 'ahead', 'meet', 'india', 'financ_minist', 'lash', 'restrict', 'trade', 'polici', 'g7', 'nation', 'object', 'subsidi', 'agricultur', 'make', 'hard', 'develop', 'nation', 'like', 'india', 'compet', 'also', 'call', 'reform', 'unit', 'nation', 'world', 'bank', 'imf', 'chidambaram', 'india', 'financ_minist', 'argu', 'organis', 'need', 'take', 'account', 'chang', 'world', 'order', 'given', 'india', 'china', 'integr', 'global', 'economi', 'issu', 'globalis', 'term', 'engag', 'globalis', 'mr', 'chidambaram', 'attend', 'g7', 'meet', 'part', 'group', 'nation', 'account', 'two', 'third', 'world', 'popul', 'confer', 'develop', 'enterpris', 'host', 'uk', 'financ_minist', 'gordon_brown', 'friday', 'favour', 'float', 'exchang', 'rate', 'help', 'countri', 'cope', 'econom', 'shock', 'flexibl', 'exchang', 'rate', 'one', 'channel', 'absorb', 'posit', 'negat', 'shock', 'told', 'confer', 'india', 'along', 'china', 'brazil', 'south_africa', 'russia', 'invit', 'take', 'part', 'g7', 'meet', 'take', 'place', 'london', 'friday', 'saturday', 'china', 'expect', 'face', 'renew', 'pressur', 'abandon', 'fix', 'exchang', 'rate', 'g7', 'nation', 'particular', 'us', 'blame', 'surg', 'cheap', 'chines', 'export', 'countri', 'tri', 'use', 'fix', 'exchang', 'rate', 'wish', 'make', 'judgement', 'mr', 'chidambaram', 'separ', 'imf', 'warn', 'thursday', 'india', 'budget_deficit', 'larg', 'would', 'hamper', 'countri', 'econom_growth', 'forecast', 'around', '65', 'year', 'march', '2005', 'year', 'march', '2004', 'indian', 'economi_grew', '85']</td>\n",
       "      <td id=\"T_f00c1_row0_col5\" class=\"data row0 col5\" >india attend g7 meet seven lead industrialis_nation friday unlik cow newcom status london thursday ahead meet india financ_minist lash restrict trade polici g7 nation object subsidi agricultur make hard develop nation like india compet also call reform unit nation world bank imf chidambaram india financ_minist argu organis need take account chang world order given india china integr global economi issu globalis term engag globalis mr chidambaram attend g7 meet part group nation account two third world popul confer develop enterpris host uk financ_minist gordon_brown friday favour float exchang rate help countri cope econom shock flexibl exchang rate one channel absorb posit negat shock told confer india along china brazil south_africa russia invit take part g7 meet take place london friday saturday china expect face renew pressur abandon fix exchang rate g7 nation particular us blame surg cheap chines export countri tri use fix exchang rate wish make judgement mr chidambaram separ imf warn thursday india budget_deficit larg would hamper countri econom_growth forecast around 65 year march 2005 year march 2004 indian economi_grew 85</td>\n",
       "    </tr>\n",
       "    <tr>\n",
       "      <th id=\"T_f00c1_level0_row1\" class=\"row_heading level0 row1\" >1</th>\n",
       "      <td id=\"T_f00c1_row1_col0\" class=\"data row1 col0\" >1.000000</td>\n",
       "      <td id=\"T_f00c1_row1_col1\" class=\"data row1 col1\" >Sluggish economy hits German jobs</td>\n",
       "      <td id=\"T_f00c1_row1_col2\" class=\"data row1 col2\" >number peopl work europ largest economi rise straight month growth remain stubborn slow german unemploy rise novemb million peopl workforc season adjust rise show smaller rise expect govern measur encourag job creation begin take effect offici growth still stifl job market clear sign reviv domest demand head feder labour agenc statement growth third quarter still deliv posit momentum labour market high oil price soar euro damag competit export negat effect unemploy still felt eastern part germani rate unemploy stick million year govern chancellor gerhard schroeder put job creation top agenda controversi packag measur shake incent get back work pay cut benefit spark anger among german worker strike number industri notabl among countri icon carmak demonstr well fear job loss outsourc take hold among new initi socal job top unemploy benefit scheme formal launch januari hire posit alreadi take place affect unemploy statist economist deterior labour market come surpris job creation measur probabl prevent stronger increas season adjust number</td>\n",
       "      <td id=\"T_f00c1_row1_col3\" class=\"data row1 col3\" >Business</td>\n",
       "      <td id=\"T_f00c1_row1_col4\" class=\"data row1 col4\" >['number', 'peopl', 'work', 'europ', 'largest', 'economi', 'risen', 'straight', 'month', 'growth', 'remain', 'stubborn', 'slow', 'german', 'unemploy', 'rose', '7000', 'novemb', 'million', 'peopl', '108', 'workforc', 'season', 'adjust', 'rise', 'show', 'smaller', 'rise', 'expect', 'govern', 'measur', 'encourag', 'job_creation', 'began', 'take', 'effect', 'offici', 'growth', 'still', 'stifl', 'job', 'market', 'clear', 'sign', 'reviv', 'domest_demand', 'head', 'feder', 'labour', 'agenc', 'statement', 'growth', '01', 'third', 'quarter', 'still', 'deliv', 'posit', 'momentum', 'labour', 'market', 'high', 'oil_price', 'soar', 'euro', 'damag', 'competit', 'export', 'also', 'negat', 'effect', 'unemploy', 'still', 'felt', 'eastern', 'part', 'germani', 'rate', '188', 'unemploy', 'stuck', '4', 'million', 'year', 'govern', 'chancellor_gerhard_schroeder', 'put', 'job_creation', 'top', 'agenda', 'controversi', 'packag', 'measur', 'shake', 'incent', 'get', 'back', 'work', 'paid', 'cut', 'benefit', 'spark', 'anger', 'among', 'german', 'worker', 'strike', 'number', 'industri', 'notabl', 'among', 'countri', 'icon', 'carmak', 'demonstr', 'well', 'fear', 'job', 'loss', 'outsourc', 'take', 'hold', 'among', 'new', 'initi', 'socal', 'job', 'top', 'unemploy', 'benefit', 'scheme', 'formal', 'launch', 'januari', 'hire', 'posit', 'alreadi', 'take', 'place', 'affect', 'unemploy', 'statist', 'economist', 'deterior', 'labour', 'market', 'come', 'surpris', 'job_creation', 'measur', 'probabl', 'prevent', 'stronger', 'increas', 'season', 'adjust', 'number']</td>\n",
       "      <td id=\"T_f00c1_row1_col5\" class=\"data row1 col5\" >number peopl work europ largest economi risen straight month growth remain stubborn slow german unemploy rose 7000 novemb million peopl 108 workforc season adjust rise show smaller rise expect govern measur encourag job_creation began take effect offici growth still stifl job market clear sign reviv domest_demand head feder labour agenc statement growth 01 third quarter still deliv posit momentum labour market high oil_price soar euro damag competit export also negat effect unemploy still felt eastern part germani rate 188 unemploy stuck 4 million year govern chancellor_gerhard_schroeder put job_creation top agenda controversi packag measur shake incent get back work paid cut benefit spark anger among german worker strike number industri notabl among countri icon carmak demonstr well fear job loss outsourc take hold among new initi socal job top unemploy benefit scheme formal launch januari hire posit alreadi take place affect unemploy statist economist deterior labour market come surpris job_creation measur probabl prevent stronger increas season adjust number</td>\n",
       "    </tr>\n",
       "    <tr>\n",
       "      <th id=\"T_f00c1_level0_row2\" class=\"row_heading level0 row2\" >2</th>\n",
       "      <td id=\"T_f00c1_row2_col0\" class=\"data row2 col0\" >2.000000</td>\n",
       "      <td id=\"T_f00c1_row2_col1\" class=\"data row2 col1\" >Indonesians face fuel price rise</td>\n",
       "      <td id=\"T_f00c1_row2_col2\" class=\"data row2 col2\" >indonesia govern confirm consid rais fuel price much million indonesian use basic cook price heavili subsidis year presid govern want curb fuel subsidi direct money aid programm poor critic argu cut subsidi hurt poorer famili govern want help million peopl leave homeless indonesia aceh region follow earthquak tsunami disast late decemb indonesia pay subsidi import order stabilis domest fuel price higher oil price forc govern spend hold price spend trillion rupiah bn fuel subsidi sum far excess origin project trillion rupiah sinc presid govern come power octob indic intent rais domest fuel price cut subsidi januari march quarter year best time us increas fuel price sri state minist nation develop plan still consid hike suitabl moment sooner better state budget bbcs correspond jakarta rachel harvey tell world busi report like strong public reaction price rise big question whether go one big short sharp shock rais price whether tri stagger indonesia previous govern lead presid attempt cut subsidi forc back face public protest</td>\n",
       "      <td id=\"T_f00c1_row2_col3\" class=\"data row2 col3\" >Business</td>\n",
       "      <td id=\"T_f00c1_row2_col4\" class=\"data row2 col4\" >['indonesia', 'govern', 'confirm', 'consid', 'rais', 'fuel', 'price', 'much', '30', 'million', 'indonesian', 'use', 'basic', 'cook', 'price', 'heavili', 'subsidis', 'year', 'presid', 'govern', 'want', 'curb', 'fuel', 'subsidi', 'direct', 'money', 'aid', 'programm', 'poor', 'critic', 'argu', 'cut', 'subsidi', 'hurt', 'poorer', 'famili', 'govern', 'say', 'want', 'help', 'million', 'peopl', 'left', 'homeless', 'indonesia', 'aceh', 'region', 'follow', 'earthquak', 'tsunami_disast', 'late', 'decemb', 'indonesia', 'pay', 'subsidi', 'import', 'order', 'stabilis', 'domest', 'fuel', 'price', 'higher', 'oil_price', 'forc', 'govern', 'spend', 'hold', 'price', 'spent', 'trillion', 'rupiah', '£35bn', 'fuel', 'subsidi', '2004', 'sum', 'far', 'excess', 'origin', 'project', 'trillion', 'rupiah', 'sinc', 'presid', 'govern', 'came', 'power', 'octob', 'indic', 'intent', 'rais', 'domest', 'fuel', 'price', 'cut', 'subsidi', 'januari', 'march', 'quarter', 'year', 'best', 'time', 'us', 'increas', 'fuel', 'price', 'sri', 'state', 'minist', 'nation', 'develop', 'plan', 'still', 'consid', '30', 'hike', 'suitabl', 'moment', 'sooner', 'better', 'state', 'budget', 'bbcs', 'correspond', 'jakarta', 'rachel', 'harvey', 'told', 'world', 'busi', 'report', 'like', 'strong', 'public', 'reaction', 'price', 'rise', 'big', 'question', 'whether', 'go', 'one', 'big', 'short', 'sharp', 'shock', 'rais', 'price', '20', '30', 'whether', 'tri', 'stagger', 'indonesia', 'previous', 'govern', 'led', 'presid', 'also', 'attempt', 'cut', 'subsidi', '2003', 'forc', 'back', 'face', 'public', 'protest']</td>\n",
       "      <td id=\"T_f00c1_row2_col5\" class=\"data row2 col5\" >indonesia govern confirm consid rais fuel price much 30 million indonesian use basic cook price heavili subsidis year presid govern want curb fuel subsidi direct money aid programm poor critic argu cut subsidi hurt poorer famili govern say want help million peopl left homeless indonesia aceh region follow earthquak tsunami_disast late decemb indonesia pay subsidi import order stabilis domest fuel price higher oil_price forc govern spend hold price spent trillion rupiah £35bn fuel subsidi 2004 sum far excess origin project trillion rupiah sinc presid govern came power octob indic intent rais domest fuel price cut subsidi januari march quarter year best time us increas fuel price sri state minist nation develop plan still consid 30 hike suitabl moment sooner better state budget bbcs correspond jakarta rachel harvey told world busi report like strong public reaction price rise big question whether go one big short sharp shock rais price 20 30 whether tri stagger indonesia previous govern led presid also attempt cut subsidi 2003 forc back face public protest</td>\n",
       "    </tr>\n",
       "    <tr>\n",
       "      <th id=\"T_f00c1_level0_row3\" class=\"row_heading level0 row3\" >3</th>\n",
       "      <td id=\"T_f00c1_row3_col0\" class=\"data row3 col0\" >3.000000</td>\n",
       "      <td id=\"T_f00c1_row3_col1\" class=\"data row3 col1\" >Court rejects $280bn tobacco case</td>\n",
       "      <td id=\"T_f00c1_row3_col2\" class=\"data row3 col2\" >us govern claim accus countri biggest tobacco compani cover effect smoke throw appeal court demand bn file clinton administr reject decis court washington find case could bring feder law among accus altria group reynold tobacco tobacco group brown case govern claim tobacco firm manipul level increas addict target teenag multibillion dollar advertis campaign lie danger smoke ignor research contrari prosecutor want cigarett firm surrend bn profit accumul past year impos tougher rule market product court appeal district columbia rule us govern could sue firm legisl draw busi tobacco compani deni illeg conspir promot smoke defraud public alreadi meet mani govern demand landmark settlement reach state share tobacco compani close higher rule altria rise reynold show gain</td>\n",
       "      <td id=\"T_f00c1_row3_col3\" class=\"data row3 col3\" >Business</td>\n",
       "      <td id=\"T_f00c1_row3_col4\" class=\"data row3 col4\" >['us', 'govern', 'claim', 'accus', 'countri', 'biggest', 'tobacco', 'compani', 'cover', 'effect', 'smoke', 'thrown', 'appeal', 'court', 'demand', '280bn', 'file', 'clinton', 'administr', '1999', 'reject', '21', 'decis', 'court', 'washington', 'found', 'case', 'could', 'brought', 'feder', 'law', 'among', 'accus', 'altria', 'group', 'reynold', 'tobacco', 'tobacco', 'group', 'brown', 'case', 'govern', 'claim', 'tobacco', 'firm', 'manipul', 'level', 'increas', 'addict', 'target', 'teenag', 'multibillion', 'dollar', 'advertis', 'campaign', 'lie', 'danger', 'smoke', 'ignor', 'research', 'contrari', 'prosecutor', 'want', 'cigarett', 'firm', 'surrend', '280bn', 'profit', 'accumul', 'past', '50', 'year', 'impos', 'tougher', 'rule', 'market', 'product', 'court', 'appeal', 'district', 'columbia', 'rule', 'us', 'govern', 'could', 'sue', 'firm', 'legisl', 'drawn', 'busi', 'tobacco', 'compani', 'deni', 'illeg', 'conspir', 'promot', 'smoke', 'defraud', 'public', 'also', 'say', 'alreadi', 'met', 'mani', 'govern', 'demand', 'landmark', 'settlement', 'reach', '46', 'state', '1998', 'share', 'tobacco', 'compani', 'close', 'higher', 'rule', 'altria', 'rise', '5', 'reynold', 'show', 'gain', '45']</td>\n",
       "      <td id=\"T_f00c1_row3_col5\" class=\"data row3 col5\" >us govern claim accus countri biggest tobacco compani cover effect smoke thrown appeal court demand 280bn file clinton administr 1999 reject 21 decis court washington found case could brought feder law among accus altria group reynold tobacco tobacco group brown case govern claim tobacco firm manipul level increas addict target teenag multibillion dollar advertis campaign lie danger smoke ignor research contrari prosecutor want cigarett firm surrend 280bn profit accumul past 50 year impos tougher rule market product court appeal district columbia rule us govern could sue firm legisl drawn busi tobacco compani deni illeg conspir promot smoke defraud public also say alreadi met mani govern demand landmark settlement reach 46 state 1998 share tobacco compani close higher rule altria rise 5 reynold show gain 45</td>\n",
       "    </tr>\n",
       "    <tr>\n",
       "      <th id=\"T_f00c1_level0_row4\" class=\"row_heading level0 row4\" >4</th>\n",
       "      <td id=\"T_f00c1_row4_col0\" class=\"data row4 col0\" >4.000000</td>\n",
       "      <td id=\"T_f00c1_row4_col1\" class=\"data row4 col1\" >Dollar gains on Greenspan speech</td>\n",
       "      <td id=\"T_f00c1_row4_col2\" class=\"data row4 col2\" >dollar hit highest level euro almost three month feder reserv head us trade deficit set stabilis alan greenspan highlight us govern curb spend rise household save factor may help reduc late trade new york dollar reach euro thursday market concern deficit hit recent month friday feder reserv chairman greenspan speech london ahead meet g financ minist send dollar higher earlier tumbl back us job data think chairman take much view current account deficit hes take time robert head currenc strategi bank america new york hes take view lay set condit current account deficit improv year next worri deficit concern china howev remain china currenc remain peg dollar us currenc sharp fall recent month therefor make chin export price high competit call shift beij polici fall deaf ear despit recent comment major chin newspap time ripe loosen peg g meet think unlik produc mean movement chin polici meantim us feder reserv decis februari boost interest rate quarter point sixth move mani month open differenti european rate window believ could enough keep us asset look attract could help prop dollar recent fall part result big budget deficit well uss current account gap need fund buy us bond asset foreign firm govern white hous announc budget monday mani comment believ deficit remain close half trillion dollar</td>\n",
       "      <td id=\"T_f00c1_row4_col3\" class=\"data row4 col3\" >Business</td>\n",
       "      <td id=\"T_f00c1_row4_col4\" class=\"data row4 col4\" >['dollar', 'hit', 'highest_level', 'euro', 'almost', 'three', 'month', 'feder_reserv', 'head', 'us', 'trade', 'deficit', 'set', 'stabilis', 'alan', 'greenspan', 'highlight', 'us', 'govern', 'willing', 'curb', 'spend', 'rise', 'household', 'save', 'factor', 'may', 'help', 'reduc', 'late', 'trade_new_york', 'dollar', 'reach', 'euro', 'thursday', 'market', 'concern', 'deficit', 'hit', 'recent', 'month', 'friday', 'feder_reserv', 'chairman', 'mr', 'greenspan', 'speech', 'london', 'ahead', 'meet', 'g7', 'financ_minist', 'sent', 'dollar', 'higher', 'earlier', 'tumbl', 'back', 'us', 'job', 'data', 'think', 'chairman', 'take', 'much', 'view', 'current', 'account', 'deficit', 'hes', 'taken', 'time', 'robert', 'head', 'currenc', 'strategi', 'bank', 'america', 'new_york', 'hes', 'take', 'view', 'lay', 'set', 'condit', 'current', 'account', 'deficit', 'improv', 'year', 'next', 'worri', 'deficit', 'concern', 'china', 'howev', 'remain', 'china', 'currenc', 'remain', 'peg', 'dollar', 'us', 'currenc', 'sharp', 'fall', 'recent', 'month', 'therefor', 'made', 'chines', 'export', 'price', 'high', 'competit', 'call', 'shift', 'beij', 'polici', 'fallen', 'deaf', 'ear', 'despit', 'recent', 'comment', 'major', 'chines', 'newspap', 'time', 'ripe', 'loosen', 'peg', 'g7', 'meet', 'thought', 'unlik', 'produc', 'meaning', 'movement', 'chines', 'polici', 'meantim', 'us', 'feder_reserv', 'decis', '2', 'februari', 'boost', 'interest_rate', 'quarter', 'point', 'sixth', 'move', 'mani', 'month', 'open', 'differenti', 'european', 'rate', 'window', 'believ', 'could', 'enough', 'keep', 'us', 'asset', 'look', 'attract', 'could', 'help', 'prop', 'dollar', 'recent', 'fall', 'part', 'result', 'big', 'budget_deficit', 'well', 'uss', 'current', 'account', 'gap', 'need', 'fund', 'buy', 'us', 'bond', 'asset', 'foreign', 'firm', 'govern', 'white', 'hous', 'announc', 'budget', 'monday', 'mani', 'comment', 'believ', 'deficit', 'remain', 'close', 'half', 'trillion', 'dollar']</td>\n",
       "      <td id=\"T_f00c1_row4_col5\" class=\"data row4 col5\" >dollar hit highest_level euro almost three month feder_reserv head us trade deficit set stabilis alan greenspan highlight us govern willing curb spend rise household save factor may help reduc late trade_new_york dollar reach euro thursday market concern deficit hit recent month friday feder_reserv chairman mr greenspan speech london ahead meet g7 financ_minist sent dollar higher earlier tumbl back us job data think chairman take much view current account deficit hes taken time robert head currenc strategi bank america new_york hes take view lay set condit current account deficit improv year next worri deficit concern china howev remain china currenc remain peg dollar us currenc sharp fall recent month therefor made chines export price high competit call shift beij polici fallen deaf ear despit recent comment major chines newspap time ripe loosen peg g7 meet thought unlik produc meaning movement chines polici meantim us feder_reserv decis 2 februari boost interest_rate quarter point sixth move mani month open differenti european rate window believ could enough keep us asset look attract could help prop dollar recent fall part result big budget_deficit well uss current account gap need fund buy us bond asset foreign firm govern white hous announc budget monday mani comment believ deficit remain close half trillion dollar</td>\n",
       "    </tr>\n",
       "  </tbody>\n",
       "</table>\n"
      ],
      "text/plain": [
       "<pandas.io.formats.style.Styler at 0x7f7de9481be0>"
      ]
     },
     "execution_count": 30,
     "metadata": {},
     "output_type": "execute_result"
    }
   ],
   "source": [
    "data.head().style.set_properties(**{'background-color': 'black',\n",
    "                            'color': 'lawngreen',\n",
    "                            'border-color': 'white'})"
   ]
  },
  {
   "cell_type": "markdown",
   "metadata": {},
   "source": [
    "## Data Preparation and Vectorization\n",
    "\n",
    "The text data is preprocessed and tokenized. We use two vectorization methods:\n",
    "\n",
    "- **CountVectorizer**: Converts text to a bag-of-words representation.\n",
    "- **TfidfVectorizer**: Converts text into TF-IDF features to capture term importance.\n",
    "\n",
    "These vectorized forms are inputs for topic modeling algorithms.\n"
   ]
  },
  {
   "cell_type": "markdown",
   "metadata": {
    "papermill": {
     "duration": 0.026025,
     "end_time": "2024-04-15T17:28:04.319893",
     "exception": false,
     "start_time": "2024-04-15T17:28:04.293868",
     "status": "completed"
    },
    "tags": []
   },
   "source": [
    "### 10- Text Vectorization with filtering\n"
   ]
  },
  {
   "cell_type": "code",
   "execution_count": 31,
   "metadata": {},
   "outputs": [
    {
     "name": "stdout",
     "output_type": "stream",
     "text": [
      "Number of features after vectorization: 1429\n",
      "Percentage of features removed: 81.17%\n"
     ]
    },
    {
     "data": {
      "image/png": "[encoded data removed]",
      "text/plain": [
       "<Figure size 936x504 with 1 Axes>"
      ]
     },
     "metadata": {
      "needs_background": "light"
     },
     "output_type": "display_data"
    }
   ],
   "source": [
    "tokeniser = CountVectorizer(max_df=0.95, min_df=0.02)\n",
    "tokenised_data = tokeniser.fit_transform(data['Description'])\n",
    "\n",
    "top_words, n_features = top_n_words_features(tokeniser, data['Description'], 10)\n",
    "top_words.plot(kind='bar', figsize=(13,7))\n",
    "\n",
    "print(f'Number of features after vectorization: {n_features}')\n",
    "print(f'Percentage of features removed: {round((n_features_raw - n_features)*100/n_features_raw, 2)}%')\n"
   ]
  },
  {
   "cell_type": "code",
   "execution_count": 32,
   "metadata": {},
   "outputs": [
    {
     "name": "stdout",
     "output_type": "stream",
     "text": [
      "Count Vectorizer features: 1429\n",
      "TF-IDF Vectorizer features: 1429\n"
     ]
    }
   ],
   "source": [
    "# Count Vectorizer (Bag-of-Words)\n",
    "count_vectorizer = CountVectorizer(max_df=0.95, min_df=0.02)\n",
    "tokenised_data = count_vectorizer.fit_transform(data['Description'])\n",
    "\n",
    "# TF-IDF Vectorizer\n",
    "tfidf_vectorizer = TfidfVectorizer(max_df=0.95, min_df=0.02)\n",
    "tfidf_vectorized = tfidf_vectorizer.fit_transform(data['Description'])\n",
    "\n",
    "print(f'Count Vectorizer features: {len(count_vectorizer.get_feature_names_out())}')\n",
    "print(f'TF-IDF Vectorizer features: {len(tfidf_vectorizer.get_feature_names_out())}')\n"
   ]
  },
  {
   "cell_type": "markdown",
   "metadata": {},
   "source": [
    "<a id='#6'></a>\n",
    "<!-- <div style=\"padding:20px; color:#FBCB0A;\n",
    "            margin:10px;\n",
    "            font-size:200%;\n",
    "            text-align:center;\n",
    "            text-shadow:2px 2px 4px #000000;\n",
    "            display:fill;\n",
    "            border-radius:30px;\n",
    "            border-width: 15px;\n",
    "            border-style: double;\n",
    "            border-color:#FBCB0A;\n",
    "            background-color:#2F8F9D;\n",
    "            overflow:hidden;\n",
    "            font-weight:500; width:1300px\"> MISSING VALUES</div> -->\n",
    "\n",
    "<h1 style='background:#0f403f; border:0; color:#c5f5d2'><center>ML Model Implementation</center></h1> "
   ]
  },
  {
   "cell_type": "markdown",
   "metadata": {},
   "source": [
    "## Model 1: Latent Dirichlet Allocation (LDA) with Count Vectorizer\n",
    "\n",
    "We use GridSearchCV to find the optimal number of topics (`n_components`) in the range 5 to 9.\n",
    "\n",
    "The model with the best log-likelihood score is selected.  \n",
    "We also compute the model's perplexity to evaluate its generalization.\n",
    "\n"
   ]
  },
  {
   "cell_type": "markdown",
   "metadata": {},
   "source": [
    "###  LDA with Count Vectorizer + Grid Search"
   ]
  },
  {
   "cell_type": "code",
   "execution_count": 48,
   "metadata": {},
   "outputs": [],
   "source": [
    "import time \n",
    "\n",
    "start_time = time.time() \n",
    " \n",
    "lda = LatentDirichletAllocation(random_state=42) \n",
    "param_grid = {'n_components': list(range(5, 10))} \n"
   ]
  },
  {
   "cell_type": "code",
   "execution_count": 49,
   "metadata": {},
   "outputs": [
    {
     "name": "stdout",
     "output_type": "stream",
     "text": [
      "Fitting 3 folds for each of 5 candidates, totalling 15 fits\n",
      "Time taken: 36.88 seconds\n",
      "Best number of topics: 6\n",
      "Best log likelihood: -784435.124\n",
      "Perplexity: 733.870\n"
     ]
    }
   ],
   "source": [
    "start_time = time.time()\n",
    "\n",
    "lda = LatentDirichletAllocation(random_state=42)\n",
    "param_grid = {'n_components': list(range(5, 10))}\n",
    "\n",
    "lda_model = GridSearchCV(lda, param_grid=param_grid, cv=3, n_jobs=-1, verbose=1)\n",
    "lda_model.fit(tokenised_data)\n",
    "\n",
    "end_time = time.time()\n",
    "\n",
    "best_lda_model = lda_model.best_estimator_\n",
    "log_likelihood_m1 = lda_model.best_score_\n",
    "perplexity_m1 = best_lda_model.perplexity(tokenised_data)\n",
    "\n",
    "print(f\"Time taken: {end_time - start_time:.2f} seconds\")\n",
    "print(\"Best number of topics:\", lda_model.best_params_['n_components'])\n",
    "print(f\"Best log likelihood: {log_likelihood_m1:.3f}\")\n",
    "print(f\"Perplexity: {perplexity_m1:.3f}\")\n"
   ]
  },
  {
   "cell_type": "markdown",
   "metadata": {},
   "source": [
    "### Assigning Topics to Each Document\n",
    "\n",
    "For each document, we assign the topic with the highest probability score.\n",
    "\n",
    "This mapping is stored as a new column in the original dataframe for further analysis.\n"
   ]
  },
  {
   "cell_type": "code",
   "execution_count": 52,
   "metadata": {},
   "outputs": [
    {
     "name": "stdout",
     "output_type": "stream",
     "text": [
      "   Unnamed: 0                              Title  \\\n",
      "0         0.0   India calls for fair trade rules   \n",
      "1         1.0  Sluggish economy hits German jobs   \n",
      "\n",
      "                                         Description  Category  \\\n",
      "0  india attend g meet seven lead industrialis na...  Business   \n",
      "1  number peopl work europ largest economi rise s...  Business   \n",
      "\n",
      "                                              tokens  \\\n",
      "0  [india, attend, g7, meet, seven, lead, industr...   \n",
      "1  [number, peopl, work, europ, largest, economi,...   \n",
      "\n",
      "                                 Description_bigrams  sentiment_score  \\\n",
      "0  india attend g7 meet seven lead industrialis_n...          -0.4939   \n",
      "1  number peopl work europ largest economi risen ...           0.9287   \n",
      "\n",
      "  sentiment  Topic_LDA  \n",
      "0  Negative          2  \n",
      "1  Positive          2  \n"
     ]
    }
   ],
   "source": [
    "# Assign Topics Function\n",
    "def assign_topics(dataframe, vectorized_data, model):\n",
    "    topic_probs = model.transform(vectorized_data)\n",
    "    topic_labels = np.argmax(topic_probs, axis=1) + 1  # topic indices start at 1\n",
    "    topics_df = pd.DataFrame(topic_labels, columns=['Topic_LDA'])\n",
    "    return dataframe.reset_index(drop=True).join(topics_df)\n",
    "\n",
    "result_df = assign_topics(data, tokenised_data, best_lda_model)\n",
    "print(result_df.head(2))\n"
   ]
  },
  {
   "cell_type": "code",
   "execution_count": 54,
   "metadata": {},
   "outputs": [
    {
     "data": {
      "text/html": [
       "<div>\n",
       "<style scoped>\n",
       "    .dataframe tbody tr th:only-of-type {\n",
       "        vertical-align: middle;\n",
       "    }\n",
       "\n",
       "    .dataframe tbody tr th {\n",
       "        vertical-align: top;\n",
       "    }\n",
       "\n",
       "    .dataframe thead th {\n",
       "        text-align: right;\n",
       "    }\n",
       "</style>\n",
       "<table border=\"1\" class=\"dataframe\">\n",
       "  <thead>\n",
       "    <tr style=\"text-align: right;\">\n",
       "      <th></th>\n",
       "      <th>Unnamed: 0</th>\n",
       "      <th>Title</th>\n",
       "      <th>Description</th>\n",
       "      <th>Category</th>\n",
       "      <th>tokens</th>\n",
       "      <th>Description_bigrams</th>\n",
       "      <th>sentiment_score</th>\n",
       "      <th>sentiment</th>\n",
       "      <th>Topic_LDA</th>\n",
       "    </tr>\n",
       "  </thead>\n",
       "  <tbody>\n",
       "    <tr>\n",
       "      <th>0</th>\n",
       "      <td>0.0</td>\n",
       "      <td>India calls for fair trade rules</td>\n",
       "      <td>india attend g meet seven lead industrialis na...</td>\n",
       "      <td>Business</td>\n",
       "      <td>[india, attend, g7, meet, seven, lead, industr...</td>\n",
       "      <td>india attend g7 meet seven lead industrialis_n...</td>\n",
       "      <td>-0.4939</td>\n",
       "      <td>Negative</td>\n",
       "      <td>2</td>\n",
       "    </tr>\n",
       "    <tr>\n",
       "      <th>1</th>\n",
       "      <td>1.0</td>\n",
       "      <td>Sluggish economy hits German jobs</td>\n",
       "      <td>number peopl work europ largest economi rise s...</td>\n",
       "      <td>Business</td>\n",
       "      <td>[number, peopl, work, europ, largest, economi,...</td>\n",
       "      <td>number peopl work europ largest economi risen ...</td>\n",
       "      <td>0.9287</td>\n",
       "      <td>Positive</td>\n",
       "      <td>2</td>\n",
       "    </tr>\n",
       "    <tr>\n",
       "      <th>2</th>\n",
       "      <td>2.0</td>\n",
       "      <td>Indonesians face fuel price rise</td>\n",
       "      <td>indonesia govern confirm consid rais fuel pric...</td>\n",
       "      <td>Business</td>\n",
       "      <td>[indonesia, govern, confirm, consid, rais, fue...</td>\n",
       "      <td>indonesia govern confirm consid rais fuel pric...</td>\n",
       "      <td>-0.5267</td>\n",
       "      <td>Negative</td>\n",
       "      <td>2</td>\n",
       "    </tr>\n",
       "    <tr>\n",
       "      <th>3</th>\n",
       "      <td>3.0</td>\n",
       "      <td>Court rejects $280bn tobacco case</td>\n",
       "      <td>us govern claim accus countri biggest tobacco ...</td>\n",
       "      <td>Business</td>\n",
       "      <td>[us, govern, claim, accus, countri, biggest, t...</td>\n",
       "      <td>us govern claim accus countri biggest tobacco ...</td>\n",
       "      <td>0.4215</td>\n",
       "      <td>Positive</td>\n",
       "      <td>1</td>\n",
       "    </tr>\n",
       "    <tr>\n",
       "      <th>4</th>\n",
       "      <td>4.0</td>\n",
       "      <td>Dollar gains on Greenspan speech</td>\n",
       "      <td>dollar hit highest level euro almost three mon...</td>\n",
       "      <td>Business</td>\n",
       "      <td>[dollar, hit, highest_level, euro, almost, thr...</td>\n",
       "      <td>dollar hit highest_level euro almost three mon...</td>\n",
       "      <td>0.7579</td>\n",
       "      <td>Positive</td>\n",
       "      <td>2</td>\n",
       "    </tr>\n",
       "  </tbody>\n",
       "</table>\n",
       "</div>"
      ],
      "text/plain": [
       "   Unnamed: 0                              Title  \\\n",
       "0         0.0   India calls for fair trade rules   \n",
       "1         1.0  Sluggish economy hits German jobs   \n",
       "2         2.0   Indonesians face fuel price rise   \n",
       "3         3.0  Court rejects $280bn tobacco case   \n",
       "4         4.0   Dollar gains on Greenspan speech   \n",
       "\n",
       "                                         Description  Category  \\\n",
       "0  india attend g meet seven lead industrialis na...  Business   \n",
       "1  number peopl work europ largest economi rise s...  Business   \n",
       "2  indonesia govern confirm consid rais fuel pric...  Business   \n",
       "3  us govern claim accus countri biggest tobacco ...  Business   \n",
       "4  dollar hit highest level euro almost three mon...  Business   \n",
       "\n",
       "                                              tokens  \\\n",
       "0  [india, attend, g7, meet, seven, lead, industr...   \n",
       "1  [number, peopl, work, europ, largest, economi,...   \n",
       "2  [indonesia, govern, confirm, consid, rais, fue...   \n",
       "3  [us, govern, claim, accus, countri, biggest, t...   \n",
       "4  [dollar, hit, highest_level, euro, almost, thr...   \n",
       "\n",
       "                                 Description_bigrams  sentiment_score  \\\n",
       "0  india attend g7 meet seven lead industrialis_n...          -0.4939   \n",
       "1  number peopl work europ largest economi risen ...           0.9287   \n",
       "2  indonesia govern confirm consid rais fuel pric...          -0.5267   \n",
       "3  us govern claim accus countri biggest tobacco ...           0.4215   \n",
       "4  dollar hit highest_level euro almost three mon...           0.7579   \n",
       "\n",
       "  sentiment  Topic_LDA  \n",
       "0  Negative          2  \n",
       "1  Positive          2  \n",
       "2  Negative          2  \n",
       "3  Positive          1  \n",
       "4  Positive          2  "
      ]
     },
     "execution_count": 54,
     "metadata": {},
     "output_type": "execute_result"
    }
   ],
   "source": [
    "result_df.head()"
   ]
  },
  {
   "cell_type": "code",
   "execution_count": null,
   "metadata": {},
   "outputs": [],
   "source": []
  },
  {
   "cell_type": "markdown",
   "metadata": {},
   "source": [
    "### Comparing LDA Topics with Original Categories - Mapping LDA Topics to Original Categories\n",
    "\n",
    "To interpret the topic numbers, we map them to original categories by majority voting.\n",
    "\n",
    "This enables direct comparison and evaluation of topic assignments.\n"
   ]
  },
  {
   "cell_type": "code",
   "execution_count": 55,
   "metadata": {},
   "outputs": [
    {
     "name": "stdout",
     "output_type": "stream",
     "text": [
      "Category       Topic_LDA\n",
      "Business       1            122\n",
      "               2            368\n",
      "               3              7\n",
      "               4             12\n",
      "               6              1\n",
      "Entertainment  1             28\n",
      "               2              6\n",
      "               3              1\n",
      "               4             10\n",
      "               5            339\n",
      "               6              2\n",
      "Politics       1             80\n",
      "               2             14\n",
      "               3            318\n",
      "               4              1\n",
      "               5              2\n",
      "               6              2\n",
      "Sport          1             33\n",
      "               3              1\n",
      "               5              2\n",
      "               6            475\n",
      "Tech           1             26\n",
      "               2              3\n",
      "               3              2\n",
      "               4            353\n",
      "               5              6\n",
      "               6             11\n",
      "Name: Title, dtype: int64\n"
     ]
    }
   ],
   "source": [
    "print(result_df.groupby(['Category', 'Topic_LDA'])['Title'].count())"
   ]
  },
  {
   "cell_type": "markdown",
   "metadata": {},
   "source": [
    "High precision per category observed."
   ]
  },
  {
   "cell_type": "code",
   "execution_count": 56,
   "metadata": {},
   "outputs": [
    {
     "data": {
      "text/html": [
       "<div>\n",
       "<style scoped>\n",
       "    .dataframe tbody tr th:only-of-type {\n",
       "        vertical-align: middle;\n",
       "    }\n",
       "\n",
       "    .dataframe tbody tr th {\n",
       "        vertical-align: top;\n",
       "    }\n",
       "\n",
       "    .dataframe thead th {\n",
       "        text-align: right;\n",
       "    }\n",
       "</style>\n",
       "<table border=\"1\" class=\"dataframe\">\n",
       "  <thead>\n",
       "    <tr style=\"text-align: right;\">\n",
       "      <th></th>\n",
       "      <th>Unnamed: 0</th>\n",
       "      <th>Title</th>\n",
       "      <th>Description</th>\n",
       "      <th>Category</th>\n",
       "      <th>tokens</th>\n",
       "      <th>Description_bigrams</th>\n",
       "      <th>sentiment_score</th>\n",
       "      <th>sentiment</th>\n",
       "      <th>Topic_LDA</th>\n",
       "    </tr>\n",
       "  </thead>\n",
       "  <tbody>\n",
       "    <tr>\n",
       "      <th>0</th>\n",
       "      <td>0.0</td>\n",
       "      <td>India calls for fair trade rules</td>\n",
       "      <td>india attend g meet seven lead industrialis na...</td>\n",
       "      <td>Business</td>\n",
       "      <td>[india, attend, g7, meet, seven, lead, industr...</td>\n",
       "      <td>india attend g7 meet seven lead industrialis_n...</td>\n",
       "      <td>-0.4939</td>\n",
       "      <td>Negative</td>\n",
       "      <td>2</td>\n",
       "    </tr>\n",
       "    <tr>\n",
       "      <th>1</th>\n",
       "      <td>1.0</td>\n",
       "      <td>Sluggish economy hits German jobs</td>\n",
       "      <td>number peopl work europ largest economi rise s...</td>\n",
       "      <td>Business</td>\n",
       "      <td>[number, peopl, work, europ, largest, economi,...</td>\n",
       "      <td>number peopl work europ largest economi risen ...</td>\n",
       "      <td>0.9287</td>\n",
       "      <td>Positive</td>\n",
       "      <td>2</td>\n",
       "    </tr>\n",
       "    <tr>\n",
       "      <th>2</th>\n",
       "      <td>2.0</td>\n",
       "      <td>Indonesians face fuel price rise</td>\n",
       "      <td>indonesia govern confirm consid rais fuel pric...</td>\n",
       "      <td>Business</td>\n",
       "      <td>[indonesia, govern, confirm, consid, rais, fue...</td>\n",
       "      <td>indonesia govern confirm consid rais fuel pric...</td>\n",
       "      <td>-0.5267</td>\n",
       "      <td>Negative</td>\n",
       "      <td>2</td>\n",
       "    </tr>\n",
       "    <tr>\n",
       "      <th>3</th>\n",
       "      <td>3.0</td>\n",
       "      <td>Court rejects $280bn tobacco case</td>\n",
       "      <td>us govern claim accus countri biggest tobacco ...</td>\n",
       "      <td>Business</td>\n",
       "      <td>[us, govern, claim, accus, countri, biggest, t...</td>\n",
       "      <td>us govern claim accus countri biggest tobacco ...</td>\n",
       "      <td>0.4215</td>\n",
       "      <td>Positive</td>\n",
       "      <td>1</td>\n",
       "    </tr>\n",
       "    <tr>\n",
       "      <th>4</th>\n",
       "      <td>4.0</td>\n",
       "      <td>Dollar gains on Greenspan speech</td>\n",
       "      <td>dollar hit highest level euro almost three mon...</td>\n",
       "      <td>Business</td>\n",
       "      <td>[dollar, hit, highest_level, euro, almost, thr...</td>\n",
       "      <td>dollar hit highest_level euro almost three mon...</td>\n",
       "      <td>0.7579</td>\n",
       "      <td>Positive</td>\n",
       "      <td>2</td>\n",
       "    </tr>\n",
       "  </tbody>\n",
       "</table>\n",
       "</div>"
      ],
      "text/plain": [
       "   Unnamed: 0                              Title  \\\n",
       "0         0.0   India calls for fair trade rules   \n",
       "1         1.0  Sluggish economy hits German jobs   \n",
       "2         2.0   Indonesians face fuel price rise   \n",
       "3         3.0  Court rejects $280bn tobacco case   \n",
       "4         4.0   Dollar gains on Greenspan speech   \n",
       "\n",
       "                                         Description  Category  \\\n",
       "0  india attend g meet seven lead industrialis na...  Business   \n",
       "1  number peopl work europ largest economi rise s...  Business   \n",
       "2  indonesia govern confirm consid rais fuel pric...  Business   \n",
       "3  us govern claim accus countri biggest tobacco ...  Business   \n",
       "4  dollar hit highest level euro almost three mon...  Business   \n",
       "\n",
       "                                              tokens  \\\n",
       "0  [india, attend, g7, meet, seven, lead, industr...   \n",
       "1  [number, peopl, work, europ, largest, economi,...   \n",
       "2  [indonesia, govern, confirm, consid, rais, fue...   \n",
       "3  [us, govern, claim, accus, countri, biggest, t...   \n",
       "4  [dollar, hit, highest_level, euro, almost, thr...   \n",
       "\n",
       "                                 Description_bigrams  sentiment_score  \\\n",
       "0  india attend g7 meet seven lead industrialis_n...          -0.4939   \n",
       "1  number peopl work europ largest economi risen ...           0.9287   \n",
       "2  indonesia govern confirm consid rais fuel pric...          -0.5267   \n",
       "3  us govern claim accus countri biggest tobacco ...           0.4215   \n",
       "4  dollar hit highest_level euro almost three mon...           0.7579   \n",
       "\n",
       "  sentiment  Topic_LDA  \n",
       "0  Negative          2  \n",
       "1  Positive          2  \n",
       "2  Negative          2  \n",
       "3  Positive          1  \n",
       "4  Positive          2  "
      ]
     },
     "execution_count": 56,
     "metadata": {},
     "output_type": "execute_result"
    }
   ],
   "source": [
    "result_df.head()"
   ]
  },
  {
   "cell_type": "markdown",
   "metadata": {},
   "source": [
    "### Mapping LDA Topic Numbers to Category Names"
   ]
  },
  {
   "cell_type": "code",
   "execution_count": 57,
   "metadata": {},
   "outputs": [
    {
     "name": "stdout",
     "output_type": "stream",
     "text": [
      "Topic to Category Mapping:\n",
      "Topic 2 => Business\n",
      "Topic 5 => Entertainment\n",
      "Topic 3 => Politics\n",
      "Topic 6 => Sport\n",
      "Topic 4 => Tech\n",
      "   Unnamed: 0                              Title  \\\n",
      "0         0.0   India calls for fair trade rules   \n",
      "1         1.0  Sluggish economy hits German jobs   \n",
      "\n",
      "                                         Description  Category  \\\n",
      "0  india attend g meet seven lead industrialis na...  Business   \n",
      "1  number peopl work europ largest economi rise s...  Business   \n",
      "\n",
      "                                              tokens  \\\n",
      "0  [india, attend, g7, meet, seven, lead, industr...   \n",
      "1  [number, peopl, work, europ, largest, economi,...   \n",
      "\n",
      "                                 Description_bigrams  sentiment_score  \\\n",
      "0  india attend g7 meet seven lead industrialis_n...          -0.4939   \n",
      "1  number peopl work europ largest economi risen ...           0.9287   \n",
      "\n",
      "  sentiment Topic_LDA  \n",
      "0  Negative  Business  \n",
      "1  Positive  Business  \n"
     ]
    }
   ],
   "source": [
    "#Mapping Function\n",
    "def map_topics_to_categories(df):\n",
    "    grouped = (df.groupby(['Category', 'Topic_LDA'])\n",
    "                 .size()\n",
    "                 .reset_index(name='Count'))\n",
    "\n",
    "    mapping = (grouped.groupby('Category')\n",
    "                      .apply(lambda x: x.loc[x['Count'].idxmax(), 'Topic_LDA'])\n",
    "                      .reset_index(name='Mapped_Topic'))\n",
    "\n",
    "    map_dict = dict(zip(mapping['Mapped_Topic'], mapping['Category']))\n",
    "    df['Topic_LDA'] = df['Topic_LDA'].map(map_dict)\n",
    "\n",
    "    print(\"Topic to Category Mapping:\")\n",
    "    for topic_num, category in map_dict.items():\n",
    "        print(f\"Topic {topic_num} => {category}\")\n",
    "    return df\n",
    "\n",
    "result_df = map_topics_to_categories(result_df)\n",
    "print(result_df.head(2))\n"
   ]
  },
  {
   "cell_type": "code",
   "execution_count": 58,
   "metadata": {},
   "outputs": [
    {
     "data": {
      "text/html": [
       "<div>\n",
       "<style scoped>\n",
       "    .dataframe tbody tr th:only-of-type {\n",
       "        vertical-align: middle;\n",
       "    }\n",
       "\n",
       "    .dataframe tbody tr th {\n",
       "        vertical-align: top;\n",
       "    }\n",
       "\n",
       "    .dataframe thead th {\n",
       "        text-align: right;\n",
       "    }\n",
       "</style>\n",
       "<table border=\"1\" class=\"dataframe\">\n",
       "  <thead>\n",
       "    <tr style=\"text-align: right;\">\n",
       "      <th></th>\n",
       "      <th>Unnamed: 0</th>\n",
       "      <th>Title</th>\n",
       "      <th>Description</th>\n",
       "      <th>Category</th>\n",
       "      <th>tokens</th>\n",
       "      <th>Description_bigrams</th>\n",
       "      <th>sentiment_score</th>\n",
       "      <th>sentiment</th>\n",
       "      <th>Topic_LDA</th>\n",
       "    </tr>\n",
       "  </thead>\n",
       "  <tbody>\n",
       "    <tr>\n",
       "      <th>0</th>\n",
       "      <td>0.0</td>\n",
       "      <td>India calls for fair trade rules</td>\n",
       "      <td>india attend g meet seven lead industrialis na...</td>\n",
       "      <td>Business</td>\n",
       "      <td>[india, attend, g7, meet, seven, lead, industr...</td>\n",
       "      <td>india attend g7 meet seven lead industrialis_n...</td>\n",
       "      <td>-0.4939</td>\n",
       "      <td>Negative</td>\n",
       "      <td>Business</td>\n",
       "    </tr>\n",
       "    <tr>\n",
       "      <th>1</th>\n",
       "      <td>1.0</td>\n",
       "      <td>Sluggish economy hits German jobs</td>\n",
       "      <td>number peopl work europ largest economi rise s...</td>\n",
       "      <td>Business</td>\n",
       "      <td>[number, peopl, work, europ, largest, economi,...</td>\n",
       "      <td>number peopl work europ largest economi risen ...</td>\n",
       "      <td>0.9287</td>\n",
       "      <td>Positive</td>\n",
       "      <td>Business</td>\n",
       "    </tr>\n",
       "    <tr>\n",
       "      <th>2</th>\n",
       "      <td>2.0</td>\n",
       "      <td>Indonesians face fuel price rise</td>\n",
       "      <td>indonesia govern confirm consid rais fuel pric...</td>\n",
       "      <td>Business</td>\n",
       "      <td>[indonesia, govern, confirm, consid, rais, fue...</td>\n",
       "      <td>indonesia govern confirm consid rais fuel pric...</td>\n",
       "      <td>-0.5267</td>\n",
       "      <td>Negative</td>\n",
       "      <td>Business</td>\n",
       "    </tr>\n",
       "    <tr>\n",
       "      <th>3</th>\n",
       "      <td>3.0</td>\n",
       "      <td>Court rejects $280bn tobacco case</td>\n",
       "      <td>us govern claim accus countri biggest tobacco ...</td>\n",
       "      <td>Business</td>\n",
       "      <td>[us, govern, claim, accus, countri, biggest, t...</td>\n",
       "      <td>us govern claim accus countri biggest tobacco ...</td>\n",
       "      <td>0.4215</td>\n",
       "      <td>Positive</td>\n",
       "      <td>NaN</td>\n",
       "    </tr>\n",
       "    <tr>\n",
       "      <th>4</th>\n",
       "      <td>4.0</td>\n",
       "      <td>Dollar gains on Greenspan speech</td>\n",
       "      <td>dollar hit highest level euro almost three mon...</td>\n",
       "      <td>Business</td>\n",
       "      <td>[dollar, hit, highest_level, euro, almost, thr...</td>\n",
       "      <td>dollar hit highest_level euro almost three mon...</td>\n",
       "      <td>0.7579</td>\n",
       "      <td>Positive</td>\n",
       "      <td>Business</td>\n",
       "    </tr>\n",
       "  </tbody>\n",
       "</table>\n",
       "</div>"
      ],
      "text/plain": [
       "   Unnamed: 0                              Title  \\\n",
       "0         0.0   India calls for fair trade rules   \n",
       "1         1.0  Sluggish economy hits German jobs   \n",
       "2         2.0   Indonesians face fuel price rise   \n",
       "3         3.0  Court rejects $280bn tobacco case   \n",
       "4         4.0   Dollar gains on Greenspan speech   \n",
       "\n",
       "                                         Description  Category  \\\n",
       "0  india attend g meet seven lead industrialis na...  Business   \n",
       "1  number peopl work europ largest economi rise s...  Business   \n",
       "2  indonesia govern confirm consid rais fuel pric...  Business   \n",
       "3  us govern claim accus countri biggest tobacco ...  Business   \n",
       "4  dollar hit highest level euro almost three mon...  Business   \n",
       "\n",
       "                                              tokens  \\\n",
       "0  [india, attend, g7, meet, seven, lead, industr...   \n",
       "1  [number, peopl, work, europ, largest, economi,...   \n",
       "2  [indonesia, govern, confirm, consid, rais, fue...   \n",
       "3  [us, govern, claim, accus, countri, biggest, t...   \n",
       "4  [dollar, hit, highest_level, euro, almost, thr...   \n",
       "\n",
       "                                 Description_bigrams  sentiment_score  \\\n",
       "0  india attend g7 meet seven lead industrialis_n...          -0.4939   \n",
       "1  number peopl work europ largest economi risen ...           0.9287   \n",
       "2  indonesia govern confirm consid rais fuel pric...          -0.5267   \n",
       "3  us govern claim accus countri biggest tobacco ...           0.4215   \n",
       "4  dollar hit highest_level euro almost three mon...           0.7579   \n",
       "\n",
       "  sentiment Topic_LDA  \n",
       "0  Negative  Business  \n",
       "1  Positive  Business  \n",
       "2  Negative  Business  \n",
       "3  Positive       NaN  \n",
       "4  Positive  Business  "
      ]
     },
     "execution_count": 58,
     "metadata": {},
     "output_type": "execute_result"
    }
   ],
   "source": [
    "result_df.head()"
   ]
  },
  {
   "cell_type": "code",
   "execution_count": null,
   "metadata": {},
   "outputs": [],
   "source": []
  },
  {
   "cell_type": "markdown",
   "metadata": {},
   "source": [
    "<a id='5'></a>\n",
    "<!-- <div style=\"padding:20px; color:#FBCB0A;\n",
    "            margin:10px;\n",
    "            font-size:200%;\n",
    "            text-align:center;\n",
    "            text-shadow:2px 2px 4px #000000;\n",
    "            display:fill;\n",
    "            border-radius:30px;\n",
    "            border-width: 15px;\n",
    "            border-style: double;\n",
    "            border-color:#FBCB0A;\n",
    "            background-color:#2F8F9D;\n",
    "            overflow:hidden;\n",
    "            font-weight:500; width:1300px\"> EXPLOROTORY DATA ANALYSIS (EDA) </div> -->\n",
    "\n",
    "<h1 style='background:#0f403f; border:0; color:#c5f5d2'><center>Sentiment Analysis</center></h1> "
   ]
  },
  {
   "cell_type": "markdown",
   "metadata": {},
   "source": [
    "## VADER Sentiment Analyzer\n",
    "### Step 1: Sentiment Analysis\n",
    "I use the **VADER sentiment analyzer** to evaluate each BBC news article's description and assign:\n",
    "- A **compound sentiment score** between -1 (very negative) and +1 (very positive).\n",
    "- A **sentiment label** (\"Positive\", \"Neutral\", \"Negative\") based on standard thresholds.\n",
    "\n",
    "This step transforms raw text into measurable sentiment data, enabling further analysis of **market perception** for different categories and topics.\n"
   ]
  },
  {
   "cell_type": "code",
   "execution_count": 59,
   "metadata": {},
   "outputs": [
    {
     "data": {
      "text/html": [
       "<div>\n",
       "<style scoped>\n",
       "    .dataframe tbody tr th:only-of-type {\n",
       "        vertical-align: middle;\n",
       "    }\n",
       "\n",
       "    .dataframe tbody tr th {\n",
       "        vertical-align: top;\n",
       "    }\n",
       "\n",
       "    .dataframe thead th {\n",
       "        text-align: right;\n",
       "    }\n",
       "</style>\n",
       "<table border=\"1\" class=\"dataframe\">\n",
       "  <thead>\n",
       "    <tr style=\"text-align: right;\">\n",
       "      <th></th>\n",
       "      <th>Unnamed: 0</th>\n",
       "      <th>Title</th>\n",
       "      <th>Description</th>\n",
       "      <th>Category</th>\n",
       "      <th>tokens</th>\n",
       "      <th>Description_bigrams</th>\n",
       "      <th>sentiment_score</th>\n",
       "      <th>sentiment</th>\n",
       "      <th>Topic_LDA</th>\n",
       "    </tr>\n",
       "  </thead>\n",
       "  <tbody>\n",
       "    <tr>\n",
       "      <th>0</th>\n",
       "      <td>0.0</td>\n",
       "      <td>India calls for fair trade rules</td>\n",
       "      <td>india attend g meet seven lead industrialis na...</td>\n",
       "      <td>Business</td>\n",
       "      <td>[india, attend, g7, meet, seven, lead, industr...</td>\n",
       "      <td>india attend g7 meet seven lead industrialis_n...</td>\n",
       "      <td>-0.4939</td>\n",
       "      <td>Negative</td>\n",
       "      <td>Business</td>\n",
       "    </tr>\n",
       "    <tr>\n",
       "      <th>1</th>\n",
       "      <td>1.0</td>\n",
       "      <td>Sluggish economy hits German jobs</td>\n",
       "      <td>number peopl work europ largest economi rise s...</td>\n",
       "      <td>Business</td>\n",
       "      <td>[number, peopl, work, europ, largest, economi,...</td>\n",
       "      <td>number peopl work europ largest economi risen ...</td>\n",
       "      <td>0.9287</td>\n",
       "      <td>Positive</td>\n",
       "      <td>Business</td>\n",
       "    </tr>\n",
       "    <tr>\n",
       "      <th>2</th>\n",
       "      <td>2.0</td>\n",
       "      <td>Indonesians face fuel price rise</td>\n",
       "      <td>indonesia govern confirm consid rais fuel pric...</td>\n",
       "      <td>Business</td>\n",
       "      <td>[indonesia, govern, confirm, consid, rais, fue...</td>\n",
       "      <td>indonesia govern confirm consid rais fuel pric...</td>\n",
       "      <td>-0.5267</td>\n",
       "      <td>Negative</td>\n",
       "      <td>Business</td>\n",
       "    </tr>\n",
       "    <tr>\n",
       "      <th>3</th>\n",
       "      <td>3.0</td>\n",
       "      <td>Court rejects $280bn tobacco case</td>\n",
       "      <td>us govern claim accus countri biggest tobacco ...</td>\n",
       "      <td>Business</td>\n",
       "      <td>[us, govern, claim, accus, countri, biggest, t...</td>\n",
       "      <td>us govern claim accus countri biggest tobacco ...</td>\n",
       "      <td>0.4215</td>\n",
       "      <td>Positive</td>\n",
       "      <td>NaN</td>\n",
       "    </tr>\n",
       "    <tr>\n",
       "      <th>4</th>\n",
       "      <td>4.0</td>\n",
       "      <td>Dollar gains on Greenspan speech</td>\n",
       "      <td>dollar hit highest level euro almost three mon...</td>\n",
       "      <td>Business</td>\n",
       "      <td>[dollar, hit, highest_level, euro, almost, thr...</td>\n",
       "      <td>dollar hit highest_level euro almost three mon...</td>\n",
       "      <td>0.7579</td>\n",
       "      <td>Positive</td>\n",
       "      <td>Business</td>\n",
       "    </tr>\n",
       "  </tbody>\n",
       "</table>\n",
       "</div>"
      ],
      "text/plain": [
       "   Unnamed: 0                              Title  \\\n",
       "0         0.0   India calls for fair trade rules   \n",
       "1         1.0  Sluggish economy hits German jobs   \n",
       "2         2.0   Indonesians face fuel price rise   \n",
       "3         3.0  Court rejects $280bn tobacco case   \n",
       "4         4.0   Dollar gains on Greenspan speech   \n",
       "\n",
       "                                         Description  Category  \\\n",
       "0  india attend g meet seven lead industrialis na...  Business   \n",
       "1  number peopl work europ largest economi rise s...  Business   \n",
       "2  indonesia govern confirm consid rais fuel pric...  Business   \n",
       "3  us govern claim accus countri biggest tobacco ...  Business   \n",
       "4  dollar hit highest level euro almost three mon...  Business   \n",
       "\n",
       "                                              tokens  \\\n",
       "0  [india, attend, g7, meet, seven, lead, industr...   \n",
       "1  [number, peopl, work, europ, largest, economi,...   \n",
       "2  [indonesia, govern, confirm, consid, rais, fue...   \n",
       "3  [us, govern, claim, accus, countri, biggest, t...   \n",
       "4  [dollar, hit, highest_level, euro, almost, thr...   \n",
       "\n",
       "                                 Description_bigrams  sentiment_score  \\\n",
       "0  india attend g7 meet seven lead industrialis_n...          -0.4939   \n",
       "1  number peopl work europ largest economi risen ...           0.9287   \n",
       "2  indonesia govern confirm consid rais fuel pric...          -0.5267   \n",
       "3  us govern claim accus countri biggest tobacco ...           0.4215   \n",
       "4  dollar hit highest_level euro almost three mon...           0.7579   \n",
       "\n",
       "  sentiment Topic_LDA  \n",
       "0  Negative  Business  \n",
       "1  Positive  Business  \n",
       "2  Negative  Business  \n",
       "3  Positive       NaN  \n",
       "4  Positive  Business  "
      ]
     },
     "execution_count": 59,
     "metadata": {},
     "output_type": "execute_result"
    }
   ],
   "source": [
    "bbc_data=result_df.copy()\n",
    "bbc_data.head()"
   ]
  },
  {
   "cell_type": "code",
   "execution_count": 37,
   "metadata": {},
   "outputs": [
    {
     "data": {
      "image/png": "[encoded data removed]",
      "text/plain": [
       "<Figure size 432x288 with 1 Axes>"
      ]
     },
     "metadata": {
      "needs_background": "light"
     },
     "output_type": "display_data"
    }
   ],
   "source": [
    "# ----------------------------------------\n",
    "# 1. SENTIMENT ANALYSIS WITH VADER\n",
    "# ----------------------------------------\n",
    "\n",
    "from vaderSentiment.vaderSentiment import SentimentIntensityAnalyzer\n",
    "import pandas as pd\n",
    "import matplotlib.pyplot as plt\n",
    "\n",
    "# Initialize analyzer\n",
    "analyzer = SentimentIntensityAnalyzer()\n",
    "\n",
    "# Apply sentiment analysis\n",
    "data['sentiment_score'] = data['Description'].apply(lambda x: analyzer.polarity_scores(str(x))['compound'])\n",
    "\n",
    "# Categorize sentiment\n",
    "def categorize_sentiment(score):\n",
    "    if score > 0.05:\n",
    "        return 'Positive'\n",
    "    elif score < -0.05:\n",
    "        return 'Negative'\n",
    "    else:\n",
    "        return 'Neutral'\n",
    "\n",
    "data['sentiment'] = data['sentiment_score'].apply(categorize_sentiment)\n",
    "\n",
    "# Sentiment distribution\n",
    "sentiment_counts = data['sentiment'].value_counts()\n",
    "sentiment_counts.plot(kind='bar', color=['green', 'red', 'gray'])\n",
    "plt.title(\"Sentiment Distribution\")\n",
    "plt.ylabel(\"Number of Complaints\")\n",
    "plt.show()\n"
   ]
  },
  {
   "cell_type": "markdown",
   "metadata": {},
   "source": [
    "### Business Value\n",
    "1. Customer Service Improvement: Quickly locate pain points and fix them.\n",
    "2. Reputation Management: Detect and address negative public sentiment before it escalates.\n",
    "3. Competitive Advantage: Identify areas where competitors are underperforming and capitalize on them.\n",
    "4. Data-driven Decision-making: Replace assumptions with measurable insights."
   ]
  },
  {
   "cell_type": "code",
   "execution_count": null,
   "metadata": {},
   "outputs": [],
   "source": []
  },
  {
   "cell_type": "markdown",
   "metadata": {},
   "source": [
    "### Step 2: Sentiment by Category\n",
    "This visualization compares how **positive, neutral, and negative sentiment** is distributed across the BBC categories  \n",
    "(e.g., Business, Politics, Sports, Tech, Entertainment).  \n",
    "It provides insight into which sections of the BBC have more **favorable vs. unfavorable tone** in coverage.\n"
   ]
  },
  {
   "cell_type": "code",
   "execution_count": 60,
   "metadata": {},
   "outputs": [
    {
     "data": {
      "image/png": "[encoded data removed]",
      "text/plain": [
       "<Figure size 576x360 with 1 Axes>"
      ]
     },
     "metadata": {
      "needs_background": "light"
     },
     "output_type": "display_data"
    }
   ],
   "source": [
    "# ----------------------------------------\n",
    "# 2. SENTIMENT DISTRIBUTION BY CATEGORY\n",
    "# ----------------------------------------\n",
    "plt.figure(figsize=(8,5))\n",
    "sns.countplot(data=bbc_data, x=\"Category\", hue=\"sentiment\", palette=\"Set2\")\n",
    "plt.title(\"Sentiment Distribution by BBC Category\")\n",
    "plt.xlabel(\"BBC News Category\")\n",
    "plt.ylabel(\"Number of Articles\")\n",
    "plt.legend(title=\"Sentiment\")\n",
    "plt.show()\n"
   ]
  },
  {
   "cell_type": "code",
   "execution_count": null,
   "metadata": {},
   "outputs": [],
   "source": []
  },
  {
   "cell_type": "markdown",
   "metadata": {},
   "source": [
    "### Step 3: Sentiment by Topic\n",
    "Using the **topics generated from the LDA model**, we calculate the **average sentiment score** for each topic.  \n",
    "This allows us to see whether certain themes (e.g., Economy, Sports, Tech) are covered **more positively or negatively**, which is essential for understanding **market perception** in each area.\n"
   ]
  },
  {
   "cell_type": "code",
   "execution_count": 64,
   "metadata": {},
   "outputs": [
    {
     "data": {
      "text/html": [
       "<div>\n",
       "<style scoped>\n",
       "    .dataframe tbody tr th:only-of-type {\n",
       "        vertical-align: middle;\n",
       "    }\n",
       "\n",
       "    .dataframe tbody tr th {\n",
       "        vertical-align: top;\n",
       "    }\n",
       "\n",
       "    .dataframe thead th {\n",
       "        text-align: right;\n",
       "    }\n",
       "</style>\n",
       "<table border=\"1\" class=\"dataframe\">\n",
       "  <thead>\n",
       "    <tr style=\"text-align: right;\">\n",
       "      <th></th>\n",
       "      <th>Unnamed: 0</th>\n",
       "      <th>Title</th>\n",
       "      <th>Description</th>\n",
       "      <th>Category</th>\n",
       "      <th>tokens</th>\n",
       "      <th>Description_bigrams</th>\n",
       "      <th>sentiment_score</th>\n",
       "      <th>sentiment</th>\n",
       "      <th>Topic_LDA</th>\n",
       "    </tr>\n",
       "  </thead>\n",
       "  <tbody>\n",
       "    <tr>\n",
       "      <th>0</th>\n",
       "      <td>0.0</td>\n",
       "      <td>India calls for fair trade rules</td>\n",
       "      <td>india attend g meet seven lead industrialis na...</td>\n",
       "      <td>Business</td>\n",
       "      <td>[india, attend, g7, meet, seven, lead, industr...</td>\n",
       "      <td>india attend g7 meet seven lead industrialis_n...</td>\n",
       "      <td>-0.4939</td>\n",
       "      <td>Negative</td>\n",
       "      <td>Business</td>\n",
       "    </tr>\n",
       "    <tr>\n",
       "      <th>1</th>\n",
       "      <td>1.0</td>\n",
       "      <td>Sluggish economy hits German jobs</td>\n",
       "      <td>number peopl work europ largest economi rise s...</td>\n",
       "      <td>Business</td>\n",
       "      <td>[number, peopl, work, europ, largest, economi,...</td>\n",
       "      <td>number peopl work europ largest economi risen ...</td>\n",
       "      <td>0.9287</td>\n",
       "      <td>Positive</td>\n",
       "      <td>Business</td>\n",
       "    </tr>\n",
       "    <tr>\n",
       "      <th>2</th>\n",
       "      <td>2.0</td>\n",
       "      <td>Indonesians face fuel price rise</td>\n",
       "      <td>indonesia govern confirm consid rais fuel pric...</td>\n",
       "      <td>Business</td>\n",
       "      <td>[indonesia, govern, confirm, consid, rais, fue...</td>\n",
       "      <td>indonesia govern confirm consid rais fuel pric...</td>\n",
       "      <td>-0.5267</td>\n",
       "      <td>Negative</td>\n",
       "      <td>Business</td>\n",
       "    </tr>\n",
       "    <tr>\n",
       "      <th>3</th>\n",
       "      <td>3.0</td>\n",
       "      <td>Court rejects $280bn tobacco case</td>\n",
       "      <td>us govern claim accus countri biggest tobacco ...</td>\n",
       "      <td>Business</td>\n",
       "      <td>[us, govern, claim, accus, countri, biggest, t...</td>\n",
       "      <td>us govern claim accus countri biggest tobacco ...</td>\n",
       "      <td>0.4215</td>\n",
       "      <td>Positive</td>\n",
       "      <td>NaN</td>\n",
       "    </tr>\n",
       "    <tr>\n",
       "      <th>4</th>\n",
       "      <td>4.0</td>\n",
       "      <td>Dollar gains on Greenspan speech</td>\n",
       "      <td>dollar hit highest level euro almost three mon...</td>\n",
       "      <td>Business</td>\n",
       "      <td>[dollar, hit, highest_level, euro, almost, thr...</td>\n",
       "      <td>dollar hit highest_level euro almost three mon...</td>\n",
       "      <td>0.7579</td>\n",
       "      <td>Positive</td>\n",
       "      <td>Business</td>\n",
       "    </tr>\n",
       "  </tbody>\n",
       "</table>\n",
       "</div>"
      ],
      "text/plain": [
       "   Unnamed: 0                              Title  \\\n",
       "0         0.0   India calls for fair trade rules   \n",
       "1         1.0  Sluggish economy hits German jobs   \n",
       "2         2.0   Indonesians face fuel price rise   \n",
       "3         3.0  Court rejects $280bn tobacco case   \n",
       "4         4.0   Dollar gains on Greenspan speech   \n",
       "\n",
       "                                         Description  Category  \\\n",
       "0  india attend g meet seven lead industrialis na...  Business   \n",
       "1  number peopl work europ largest economi rise s...  Business   \n",
       "2  indonesia govern confirm consid rais fuel pric...  Business   \n",
       "3  us govern claim accus countri biggest tobacco ...  Business   \n",
       "4  dollar hit highest level euro almost three mon...  Business   \n",
       "\n",
       "                                              tokens  \\\n",
       "0  [india, attend, g7, meet, seven, lead, industr...   \n",
       "1  [number, peopl, work, europ, largest, economi,...   \n",
       "2  [indonesia, govern, confirm, consid, rais, fue...   \n",
       "3  [us, govern, claim, accus, countri, biggest, t...   \n",
       "4  [dollar, hit, highest_level, euro, almost, thr...   \n",
       "\n",
       "                                 Description_bigrams  sentiment_score  \\\n",
       "0  india attend g7 meet seven lead industrialis_n...          -0.4939   \n",
       "1  number peopl work europ largest economi risen ...           0.9287   \n",
       "2  indonesia govern confirm consid rais fuel pric...          -0.5267   \n",
       "3  us govern claim accus countri biggest tobacco ...           0.4215   \n",
       "4  dollar hit highest_level euro almost three mon...           0.7579   \n",
       "\n",
       "  sentiment Topic_LDA  \n",
       "0  Negative  Business  \n",
       "1  Positive  Business  \n",
       "2  Negative  Business  \n",
       "3  Positive       NaN  \n",
       "4  Positive  Business  "
      ]
     },
     "execution_count": 64,
     "metadata": {},
     "output_type": "execute_result"
    }
   ],
   "source": [
    "bbc_data.head()"
   ]
  },
  {
   "cell_type": "code",
   "execution_count": 66,
   "metadata": {},
   "outputs": [
    {
     "data": {
      "text/plain": [
       "Index(['Topic_LDA', 'sentiment_score'], dtype='object')"
      ]
     },
     "execution_count": 66,
     "metadata": {},
     "output_type": "execute_result"
    }
   ],
   "source": [
    "bbc_data.columns"
   ]
  },
  {
   "cell_type": "code",
   "execution_count": 68,
   "metadata": {},
   "outputs": [
    {
     "data": {
      "image/png": "[encoded data removed]",
      "text/plain": [
       "<Figure size 576x360 with 1 Axes>"
      ]
     },
     "metadata": {
      "needs_background": "light"
     },
     "output_type": "display_data"
    }
   ],
   "source": [
    "# ----------------------------------------\n",
    "# 3. AVERAGE SENTIMENT BY TOPIC (FROM LDA MODEL)\n",
    "# ----------------------------------------\n",
    "\n",
    "# Merge sentiment scores with topic labels (assuming lda_df contains 'Topic' column)\n",
    "bbc_topics_sentiment = bbc_data.groupby(\"Topic_LDA\")[\"sentiment_score\"].mean().reset_index()\n",
    "\n",
    "plt.figure(figsize=(8,5))\n",
    "sns.barplot(data=bbc_topics_sentiment, x=\"Topic_LDA\", y=\"sentiment_score\", palette=\"coolwarm\")\n",
    "plt.title(\"Average Sentiment Score per Topic\")\n",
    "plt.xlabel(\"Topic Number\")\n",
    "plt.ylabel(\"Average Sentiment Score\")\n",
    "plt.axhline(0, color='black', linestyle='--')\n",
    "plt.show()\n"
   ]
  },
  {
   "cell_type": "code",
   "execution_count": 71,
   "metadata": {},
   "outputs": [
    {
     "data": {
      "text/html": [
       "<div>\n",
       "<style scoped>\n",
       "    .dataframe tbody tr th:only-of-type {\n",
       "        vertical-align: middle;\n",
       "    }\n",
       "\n",
       "    .dataframe tbody tr th {\n",
       "        vertical-align: top;\n",
       "    }\n",
       "\n",
       "    .dataframe thead th {\n",
       "        text-align: right;\n",
       "    }\n",
       "</style>\n",
       "<table border=\"1\" class=\"dataframe\">\n",
       "  <thead>\n",
       "    <tr style=\"text-align: right;\">\n",
       "      <th></th>\n",
       "      <th>Unnamed: 0</th>\n",
       "      <th>Title</th>\n",
       "      <th>Description</th>\n",
       "      <th>Category</th>\n",
       "      <th>tokens</th>\n",
       "      <th>Description_bigrams</th>\n",
       "      <th>sentiment_score</th>\n",
       "      <th>sentiment</th>\n",
       "      <th>Topic_LDA</th>\n",
       "    </tr>\n",
       "  </thead>\n",
       "  <tbody>\n",
       "    <tr>\n",
       "      <th>0</th>\n",
       "      <td>0.0</td>\n",
       "      <td>India calls for fair trade rules</td>\n",
       "      <td>india attend g meet seven lead industrialis na...</td>\n",
       "      <td>Business</td>\n",
       "      <td>[india, attend, g7, meet, seven, lead, industr...</td>\n",
       "      <td>india attend g7 meet seven lead industrialis_n...</td>\n",
       "      <td>-0.4939</td>\n",
       "      <td>Negative</td>\n",
       "      <td>Business</td>\n",
       "    </tr>\n",
       "    <tr>\n",
       "      <th>1</th>\n",
       "      <td>1.0</td>\n",
       "      <td>Sluggish economy hits German jobs</td>\n",
       "      <td>number peopl work europ largest economi rise s...</td>\n",
       "      <td>Business</td>\n",
       "      <td>[number, peopl, work, europ, largest, economi,...</td>\n",
       "      <td>number peopl work europ largest economi risen ...</td>\n",
       "      <td>0.9287</td>\n",
       "      <td>Positive</td>\n",
       "      <td>Business</td>\n",
       "    </tr>\n",
       "    <tr>\n",
       "      <th>2</th>\n",
       "      <td>2.0</td>\n",
       "      <td>Indonesians face fuel price rise</td>\n",
       "      <td>indonesia govern confirm consid rais fuel pric...</td>\n",
       "      <td>Business</td>\n",
       "      <td>[indonesia, govern, confirm, consid, rais, fue...</td>\n",
       "      <td>indonesia govern confirm consid rais fuel pric...</td>\n",
       "      <td>-0.5267</td>\n",
       "      <td>Negative</td>\n",
       "      <td>Business</td>\n",
       "    </tr>\n",
       "    <tr>\n",
       "      <th>3</th>\n",
       "      <td>3.0</td>\n",
       "      <td>Court rejects $280bn tobacco case</td>\n",
       "      <td>us govern claim accus countri biggest tobacco ...</td>\n",
       "      <td>Business</td>\n",
       "      <td>[us, govern, claim, accus, countri, biggest, t...</td>\n",
       "      <td>us govern claim accus countri biggest tobacco ...</td>\n",
       "      <td>0.4215</td>\n",
       "      <td>Positive</td>\n",
       "      <td>NaN</td>\n",
       "    </tr>\n",
       "    <tr>\n",
       "      <th>4</th>\n",
       "      <td>4.0</td>\n",
       "      <td>Dollar gains on Greenspan speech</td>\n",
       "      <td>dollar hit highest level euro almost three mon...</td>\n",
       "      <td>Business</td>\n",
       "      <td>[dollar, hit, highest_level, euro, almost, thr...</td>\n",
       "      <td>dollar hit highest_level euro almost three mon...</td>\n",
       "      <td>0.7579</td>\n",
       "      <td>Positive</td>\n",
       "      <td>Business</td>\n",
       "    </tr>\n",
       "  </tbody>\n",
       "</table>\n",
       "</div>"
      ],
      "text/plain": [
       "   Unnamed: 0                              Title  \\\n",
       "0         0.0   India calls for fair trade rules   \n",
       "1         1.0  Sluggish economy hits German jobs   \n",
       "2         2.0   Indonesians face fuel price rise   \n",
       "3         3.0  Court rejects $280bn tobacco case   \n",
       "4         4.0   Dollar gains on Greenspan speech   \n",
       "\n",
       "                                         Description  Category  \\\n",
       "0  india attend g meet seven lead industrialis na...  Business   \n",
       "1  number peopl work europ largest economi rise s...  Business   \n",
       "2  indonesia govern confirm consid rais fuel pric...  Business   \n",
       "3  us govern claim accus countri biggest tobacco ...  Business   \n",
       "4  dollar hit highest level euro almost three mon...  Business   \n",
       "\n",
       "                                              tokens  \\\n",
       "0  [india, attend, g7, meet, seven, lead, industr...   \n",
       "1  [number, peopl, work, europ, largest, economi,...   \n",
       "2  [indonesia, govern, confirm, consid, rais, fue...   \n",
       "3  [us, govern, claim, accus, countri, biggest, t...   \n",
       "4  [dollar, hit, highest_level, euro, almost, thr...   \n",
       "\n",
       "                                 Description_bigrams  sentiment_score  \\\n",
       "0  india attend g7 meet seven lead industrialis_n...          -0.4939   \n",
       "1  number peopl work europ largest economi risen ...           0.9287   \n",
       "2  indonesia govern confirm consid rais fuel pric...          -0.5267   \n",
       "3  us govern claim accus countri biggest tobacco ...           0.4215   \n",
       "4  dollar hit highest_level euro almost three mon...           0.7579   \n",
       "\n",
       "  sentiment Topic_LDA  \n",
       "0  Negative  Business  \n",
       "1  Positive  Business  \n",
       "2  Negative  Business  \n",
       "3  Positive       NaN  \n",
       "4  Positive  Business  "
      ]
     },
     "execution_count": 71,
     "metadata": {},
     "output_type": "execute_result"
    }
   ],
   "source": [
    "bbc_df = result_df.copy()\n",
    "bbc_df.head()"
   ]
  },
  {
   "cell_type": "markdown",
   "metadata": {},
   "source": [
    "### Sentiment by LDA-Derived Topic\n",
    "Instead of relying solely on the **provided category labels**,  \n",
    "we use **LDA topic modeling** to discover latent themes in BBC News articles.  \n",
    "By analyzing **average sentiment scores** for each detected topic,  \n",
    "we gain deeper insights into:\n",
    "- Whether certain topics are covered in a **more positive or negative light**.\n",
    "- Hidden biases in news coverage.\n",
    "- Opportunities for targeted public relations efforts.\n",
    "\n",
    "This is useful for media monitoring, investor sentiment tracking, and policy analysis.\n"
   ]
  },
  {
   "cell_type": "code",
   "execution_count": null,
   "metadata": {},
   "outputs": [],
   "source": []
  },
  {
   "cell_type": "markdown",
   "metadata": {},
   "source": [
    "### Step 4: Market Perception Index\n",
    "We define a **Perception Index**:\n",
    "\\[\n",
    "\\text{Perception Index} = (\\% \\text{Positive} - \\% \\text{Negative}) \\times 100\n",
    "\\]\n",
    "A higher value means the category has **stronger positive sentiment**, while negative values suggest a **more critical tone**.  \n",
    "This metric allows **quick ranking** of BBC categories based on sentiment, offering **clear business insight** into media tone trends.\n"
   ]
  },
  {
   "cell_type": "code",
   "execution_count": 73,
   "metadata": {},
   "outputs": [
    {
     "name": "stdout",
     "output_type": "stream",
     "text": [
      "sentiment      Negative   Neutral  Positive  Perception_Index\n",
      "Category                                                     \n",
      "Sport          0.144814  0.007828  0.847358         70.254403\n",
      "Entertainment  0.176166  0.010363  0.813472         63.730570\n",
      "Tech           0.194514  0.000000  0.805486         61.097257\n",
      "Business       0.307843  0.013725  0.678431         37.058824\n",
      "Politics       0.393285  0.009592  0.597122         20.383693\n"
     ]
    },
    {
     "data": {
      "image/png": "[encoded data removed]",
      "text/plain": [
       "<Figure size 576x360 with 1 Axes>"
      ]
     },
     "metadata": {
      "needs_background": "light"
     },
     "output_type": "display_data"
    }
   ],
   "source": [
    "# ----------------------------------------\n",
    "# 4. MARKET PERCEPTION INDEX\n",
    "# ----------------------------------------\n",
    "\n",
    "# Calculate Perception Index per Category\n",
    "perception_df = bbc_df.groupby(\"Category\")[\"sentiment\"].value_counts(normalize=True).unstack().fillna(0)\n",
    "perception_df[\"Perception_Index\"] = (perception_df[\"Positive\"] - perception_df[\"Negative\"]) * 100\n",
    "perception_df = perception_df.sort_values(\"Perception_Index\", ascending=False)\n",
    "\n",
    "print(perception_df)\n",
    "\n",
    "# Visualization\n",
    "plt.figure(figsize=(8,5))\n",
    "sns.barplot(x=perception_df.index, y=perception_df[\"Perception_Index\"], palette=\"viridis\")\n",
    "plt.title(\"Market Perception Index by BBC Category\")\n",
    "plt.ylabel(\"Perception Index\")\n",
    "plt.xlabel(\"BBC Category\")\n",
    "plt.axhline(0, color='black', linestyle='--')\n",
    "plt.show()\n"
   ]
  },
  {
   "cell_type": "code",
   "execution_count": null,
   "metadata": {},
   "outputs": [],
   "source": []
  },
  {
   "cell_type": "markdown",
   "metadata": {},
   "source": [
    "### Step 5: Sentiment Word Clouds\n",
    "We generate two word clouds—one for **positive sentiment** and one for **negative sentiment**—  \n",
    "to visually identify which **keywords** are most associated with favorable or unfavorable coverage.  \n",
    "This helps pinpoint **drivers of sentiment** in market-related news.\n"
   ]
  },
  {
   "cell_type": "code",
   "execution_count": 76,
   "metadata": {},
   "outputs": [
    {
     "data": {
      "image/png": "[encoded data removed]",
      "text/plain": [
       "<Figure size 1080x432 with 2 Axes>"
      ]
     },
     "metadata": {
      "needs_background": "light"
     },
     "output_type": "display_data"
    }
   ],
   "source": [
    "# ----------------------------------------\n",
    "# 5. WORD CLOUD BY SENTIMENT\n",
    "# ----------------------------------------\n",
    "from wordcloud import WordCloud\n",
    "\n",
    "positive_text = \" \".join(bbc_df[bbc_df[\"sentiment\"]==\"Positive\"][\"Description\"])\n",
    "negative_text = \" \".join(bbc_df[bbc_df[\"sentiment\"]==\"Negative\"][\"Description\"])\n",
    "\n",
    "fig, axes = plt.subplots(1, 2, figsize=(15,6))\n",
    "\n",
    "wc_pos = WordCloud(width=800, height=400, background_color=\"white\", colormap=\"Greens\").generate(positive_text)\n",
    "wc_neg = WordCloud(width=800, height=400, background_color=\"white\", colormap=\"Reds\").generate(negative_text)\n",
    "\n",
    "axes[0].imshow(wc_pos, interpolation=\"bilinear\")\n",
    "axes[0].set_title(\"Positive Sentiment Word Cloud\", fontsize=14)\n",
    "axes[0].axis(\"off\")\n",
    "\n",
    "axes[1].imshow(wc_neg, interpolation=\"bilinear\")\n",
    "axes[1].set_title(\"Negative Sentiment Word Cloud\", fontsize=14)\n",
    "axes[1].axis(\"off\")\n",
    "\n",
    "plt.show()\n"
   ]
  },
  {
   "cell_type": "code",
   "execution_count": null,
   "metadata": {},
   "outputs": [],
   "source": []
  },
  {
   "cell_type": "markdown",
   "metadata": {},
   "source": [
    "### Step 6: Sentiment Trend Over Time\n",
    "By aggregating **average sentiment scores** over time (monthly in this example),  \n",
    "we can identify **shifts in market perception** in BBC news coverage.  \n",
    "This is valuable for:\n",
    "- Tracking media sentiment before/after **major events** (e.g., policy changes, corporate scandals).  \n",
    "- Detecting **long-term trends** in public discourse.  \n",
    "- Correlating sentiment with **stock market or economic indicators**.  \n",
    "\n",
    "If a **Date** column is missing in the dataset, we simulate one to demonstrate the method.\n"
   ]
  },
  {
   "cell_type": "code",
   "execution_count": 77,
   "metadata": {},
   "outputs": [
    {
     "data": {
      "image/png": "[encoded data removed]",
      "text/plain": [
       "<Figure size 720x360 with 1 Axes>"
      ]
     },
     "metadata": {
      "needs_background": "light"
     },
     "output_type": "display_data"
    }
   ],
   "source": [
    "# ----------------------------------------\n",
    "# 6. SENTIMENT TREND OVER TIME\n",
    "# ----------------------------------------\n",
    "\n",
    "# If 'Date' column is missing, create a simulated timeline for demo purposes\n",
    "if \"Date\" not in bbc_df.columns:\n",
    "    import numpy as np\n",
    "    bbc_df[\"Date\"] = pd.date_range(start=\"2023-01-01\", periods=len(bbc_df), freq=\"D\")\n",
    "\n",
    "# Ensure Date is datetime type\n",
    "bbc_df[\"Date\"] = pd.to_datetime(bbc_df[\"Date\"])\n",
    "\n",
    "# Aggregate average sentiment by month\n",
    "sentiment_trend = bbc_df.groupby(pd.Grouper(key=\"Date\", freq=\"M\"))[\"sentiment_score\"].mean().reset_index()\n",
    "\n",
    "# Plot the sentiment trend\n",
    "plt.figure(figsize=(10,5))\n",
    "sns.lineplot(data=sentiment_trend, x=\"Date\", y=\"sentiment_score\", marker=\"o\", color=\"blue\")\n",
    "plt.axhline(0, color='black', linestyle='--')\n",
    "plt.title(\"BBC News Sentiment Trend Over Time\", fontsize=14)\n",
    "plt.xlabel(\"Date\")\n",
    "plt.ylabel(\"Average Sentiment Score\")\n",
    "plt.show()\n"
   ]
  },
  {
   "cell_type": "markdown",
   "metadata": {},
   "source": [
    "<a id='12'></a>\n",
    "<!-- <div style=\"padding:20px; color:#FBCB0A;\n",
    "            margin:10px;\n",
    "            font-size:200%;\n",
    "            text-align:center;\n",
    "            text-shadow:2px 2px 4px #000000;\n",
    "            display:fill;\n",
    "            border-radius:30px;\n",
    "            border-width: 15px;\n",
    "            border-style: double;\n",
    "            border-color:#FBCB0A;\n",
    "            background-color:#2F8F9D;\n",
    "            overflow:hidden;\n",
    "            font-weight:500; width:1300px\">CONCLUSION</div> -->\n",
    "<h1 style='background:#0f403f; border:0; color:#c5f5d2'><center>EVALUATION OF RESULTS</center></h1> "
   ]
  },
  {
   "cell_type": "markdown",
   "metadata": {},
   "source": [
    "\n",
    "### Sentiment Analysis Workflow Summary\n",
    "\n",
    "- **Sentiment Scoring (VADER):** \n",
    "- **Sentiment by Category (bar plot):** \n",
    "- **Sentiment by Topic (LDA output):** \n",
    "- **Market Perception Index (ranking):** \n",
    "- **Sentiment Word Clouds (keywords):** \n",
    "- **Sentiment Trend Over Time (line chart):** \n",
    "\n",
    "\n",
    "\n",
    "* The sentiment analysis of BBC News articles provided insightful findings into the market perception reflected through media coverage. When analyzing sentiment by the original BBC categories, we observed varying average sentiment scores across topics, indicating differential tones in coverage. For instance, categories related to business and technology tended to have more neutral to slightly positive sentiment, whereas topics such as politics exhibited a wider range of sentiment polarity, reflecting the complexity and divisiveness of such news.\n",
    "\n",
    "* Applying Latent Dirichlet Allocation (LDA) enabled us to uncover latent topics beyond the original category labels, offering a nuanced understanding of the themes within the news corpus. The sentiment analysis by LDA-derived topics revealed similar patterns but also highlighted subtopics that received distinct sentiment tones. This approach proved valuable in identifying specific areas of positive or negative coverage that may not align perfectly with pre-defined categories.\n",
    "\n",
    "* The temporal sentiment trend, though created with pseudo-dates due to dataset limitations, suggested possible fluctuations in sentiment over time, which could correspond to real-world events or market cycles. This temporal analysis lays the groundwork for future studies incorporating actual publication dates to monitor how sentiment evolves alongside business cycles or geopolitical events.\n",
    "\n",
    "* Overall, the sentiment scores, combined with topic modeling, provide a comprehensive picture of the BBC’s business news tone and its potential influence on market perception. The findings support the use of sentiment and topic analysis as tools for investors, analysts, and corporate communications teams to gauge public and media sentiment effectively.\n"
   ]
  },
  {
   "cell_type": "markdown",
   "metadata": {},
   "source": [
    "<a id='12'></a>\n",
    "<!-- <div style=\"padding:20px; color:#FBCB0A;\n",
    "            margin:10px;\n",
    "            font-size:200%;\n",
    "            text-align:center;\n",
    "            text-shadow:2px 2px 4px #000000;\n",
    "            display:fill;\n",
    "            border-radius:30px;\n",
    "            border-width: 15px;\n",
    "            border-style: double;\n",
    "            border-color:#FBCB0A;\n",
    "            background-color:#2F8F9D;\n",
    "            overflow:hidden;\n",
    "            font-weight:500; width:1300px\">CONCLUSION</div> -->\n",
    "<h1 style='background:#0f403f; border:0; color:#c5f5d2'><center>CONCLUSION</center></h1> "
   ]
  },
  {
   "cell_type": "markdown",
   "metadata": {},
   "source": [
    "- This project successfully demonstrated the application of sentiment analysis and topic modeling on BBC business news articles to evaluate market perception. By combining pre-labeled categories with unsupervised topic discovery, we gained richer insights into the content and tone of the news. The sentiment patterns across categories and topics revealed areas of positive and negative coverage that are crucial for understanding public sentiment toward business issues.\n",
    "\n",
    "- While the absence of exact publication dates limited detailed temporal analysis, the methodology developed can be extended to more time-aware datasets to track sentiment dynamics. These insights have practical business value in informing risk management, investor relations, and strategic communications.\n",
    "\n",
    "- In conclusion, sentiment analysis integrated with topic modeling proves to be a powerful approach for extracting actionable intelligence from news media, supporting organizations in navigating the complex landscape of market perception and media influence.\n"
   ]
  },
  {
   "cell_type": "code",
   "execution_count": null,
   "metadata": {},
   "outputs": [],
   "source": []
  }
 ],
 "metadata": {
  "kaggle": {
   "accelerator": "none",
   "dataSources": [
    {
     "datasetId": 4798851,
     "sourceId": 8121380,
     "sourceType": "datasetVersion"
    }
   ],
   "dockerImageVersionId": 30684,
   "isGpuEnabled": false,
   "isInternetEnabled": true,
   "language": "python",
   "sourceType": "notebook"
  },
  "kernelspec": {
   "display_name": "Python 3",
   "language": "python",
   "name": "python3"
  },
  "language_info": {
   "codemirror_mode": {
    "name": "ipython",
    "version": 3
   },
   "file_extension": ".py",
   "mimetype": "text/x-python",
   "name": "python",
   "nbconvert_exporter": "python",
   "pygments_lexer": "ipython3",
   "version": "3.7.1"
  },
  "papermill": {
   "default_parameters": {},
   "duration": 19.070547,
   "end_time": "2024-04-15T17:28:10.116642",
   "environment_variables": {},
   "exception": null,
   "input_path": "__notebook__.ipynb",
   "output_path": "__notebook__.ipynb",
   "parameters": {},
   "start_time": "2024-04-15T17:27:51.046095",
   "version": "2.5.0"
  }
 },
 "nbformat": 4,
 "nbformat_minor": 5
}
